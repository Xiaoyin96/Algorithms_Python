{
 "cells": [
  {
   "cell_type": "code",
   "execution_count": 29,
   "metadata": {},
   "outputs": [],
   "source": [
    "def time():\n",
    "    import datetime\n",
    "    print(datetime.datetime.now())"
   ]
  },
  {
   "cell_type": "markdown",
   "metadata": {},
   "source": [
    "#### 1 Two Sum"
   ]
  },
  {
   "cell_type": "markdown",
   "metadata": {},
   "source": [
    "Given an array of integers, return indices of the two numbers such that they add up to a specific target.\n",
    "\n",
    "You may assume that each input would have exactly one solution, and you may not use the same element twice.\n",
    "\n",
    "Example:\n",
    "\n",
    "Given nums = [2, 7, 11, 15], target = 9,\n",
    "\n",
    "Because nums[0] + nums[1] = 2 + 7 = 9,\n",
    "return [0, 1]."
   ]
  },
  {
   "cell_type": "code",
   "execution_count": 12,
   "metadata": {},
   "outputs": [],
   "source": [
    "def twoSum(nums: 'List[int]', target: 'int') -> 'List[int]':\n",
    "    for i in range(len(nums)):\n",
    "        temp = target - nums[i]\n",
    "        if temp in nums and nums.index(temp) != i:\n",
    "            return [i,nums.index(temp)]"
   ]
  },
  {
   "cell_type": "code",
   "execution_count": 13,
   "metadata": {},
   "outputs": [
    {
     "data": {
      "text/plain": [
       "[0, 1]"
      ]
     },
     "execution_count": 13,
     "metadata": {},
     "output_type": "execute_result"
    }
   ],
   "source": [
    "twoSum(nums = [2,7,11,15],target = 9)"
   ]
  },
  {
   "cell_type": "markdown",
   "metadata": {},
   "source": [
    "#### 7 Reverse Integer"
   ]
  },
  {
   "cell_type": "markdown",
   "metadata": {},
   "source": [
    "Given a 32-bit signed integer, reverse digits of an integer.\n",
    "\n",
    "Example 1:\n",
    "\n",
    "Input: 123\n",
    "Output: 321  \n",
    "Example 2:\n",
    "\n",
    "Input: -123\n",
    "Output: -321  \n",
    "Example 3:\n",
    "\n",
    "Input: 120\n",
    "Output: 21  \n",
    "\n",
    "Note:\n",
    "Assume we are dealing with an environment which could only store integers within the 32-bit signed integer range: [−231,  231 − 1]. For the purpose of this problem, assume that your function returns 0 when the reversed integer overflows."
   ]
  },
  {
   "cell_type": "code",
   "execution_count": 27,
   "metadata": {},
   "outputs": [],
   "source": [
    "def reverse(x: int) -> int:\n",
    "    if x < 0:\n",
    "        s = str(-x)\n",
    "        a = - int(s[::-1])\n",
    "    if x >= 0:\n",
    "        s = str(x)\n",
    "        a = int(s[::-1])\n",
    "\n",
    "    if a > 2**31 - 1 or a < - 2**31:\n",
    "        return 0\n",
    "    else:\n",
    "        return a"
   ]
  },
  {
   "cell_type": "markdown",
   "metadata": {},
   "source": [
    "#### 9"
   ]
  },
  {
   "cell_type": "markdown",
   "metadata": {},
   "source": [
    "Determine whether an integer is a palindrome. An integer is a palindrome when it reads the same backward as forward.\n",
    "\n",
    "Example 1:  \n",
    "\n",
    "Input: 121\n",
    "Output: true\n",
    "Example 2:  \n",
    "\n",
    "Input: -121\n",
    "Output: false\n",
    "Explanation: From left to right, it reads -121. From right to left, it becomes 121-. Therefore it is not a palindrome.\n",
    "Example 3:  \n",
    "\n",
    "Input: 10\n",
    "Output: false\n",
    "Explanation: Reads 01 from right to left. Therefore it is not a palindrome."
   ]
  },
  {
   "cell_type": "markdown",
   "metadata": {},
   "source": [
    "#### use string"
   ]
  },
  {
   "cell_type": "code",
   "execution_count": null,
   "metadata": {},
   "outputs": [],
   "source": [
    "def isPalindrome(x: int) -> bool:\n",
    "    if x < 0:\n",
    "        return False\n",
    "    else:\n",
    "        s = str(x)\n",
    "        r = int(s[::-1])\n",
    "        if x == r:\n",
    "            return True\n",
    "        else:\n",
    "            return False"
   ]
  },
  {
   "cell_type": "markdown",
   "metadata": {},
   "source": [
    "#### 13. Roman to Integer"
   ]
  },
  {
   "cell_type": "code",
   "execution_count": null,
   "metadata": {},
   "outputs": [],
   "source": [
    "def romanToInt( s: str) -> int:\n",
    "    R_dict = {\"I\": 1, \"V\":5, \"X\":10, \"L\":50, \"C\":100, \"D\": 500, \"M\": 1000}\n",
    "    count = 0\n",
    "    current_max = 0\n",
    "\n",
    "    for i in range(len(s)):\n",
    "        r = s[::-1]\n",
    "        value = R_dict[r[i]]\n",
    "        if value >= current_max:\n",
    "            current_max = value\n",
    "            count = count + current_max\n",
    "        if value < current_max:\n",
    "            count = count - value\n",
    "\n",
    "\n",
    "    return count"
   ]
  },
  {
   "cell_type": "markdown",
   "metadata": {},
   "source": [
    "#### 14"
   ]
  },
  {
   "cell_type": "code",
   "execution_count": 27,
   "metadata": {},
   "outputs": [],
   "source": [
    "\n",
    "def longestCommonPrefix(strs) -> str:\n",
    "    output = ''\n",
    "    if strs:\n",
    "        s = min(strs, key=len)\n",
    "\n",
    "        for i in range(len(s)):\n",
    "            for word in strs:\n",
    "                if word[i] != s[i]:\n",
    "                    return output\n",
    "\n",
    "            output += s[i]\n",
    "\n",
    "    return output"
   ]
  },
  {
   "cell_type": "markdown",
   "metadata": {},
   "source": [
    "#### 2 add two numbers"
   ]
  },
  {
   "cell_type": "code",
   "execution_count": 45,
   "metadata": {},
   "outputs": [],
   "source": [
    "class Node:\n",
    "    def __init__(self, data):\n",
    "        self.data = data\n",
    "        self.next = None"
   ]
  },
  {
   "cell_type": "code",
   "execution_count": null,
   "metadata": {},
   "outputs": [],
   "source": [
    "node = Node(4) # 此节点对象数据为4，指针指向None。"
   ]
  },
  {
   "cell_type": "code",
   "execution_count": 78,
   "metadata": {},
   "outputs": [],
   "source": [
    "class LinkedList:\n",
    "    def __init__(self):\n",
    "        self.head = None\n",
    "        self.tail = None\n",
    "    \n",
    "    def is_empty(self):\n",
    "        return self.head is None\n",
    "    \n",
    "    def append(self, data):\n",
    "        node = Node(data)\n",
    "        if self.head is None:\n",
    "            self.head = node\n",
    "            self.tail = node\n",
    "        else:\n",
    "            self.tail.next = node\n",
    "            self.tail = node\n",
    "            \n",
    "    def iter(self):\n",
    "        if not self.head:\n",
    "            return\n",
    "        cur = self.head\n",
    "        yield cur.data\n",
    "        while cur.next:\n",
    "            cur = cur.next\n",
    "            yield cur.data\n",
    "    \n",
    "    def insert(self, idx, value):\n",
    "        cur = self.head\n",
    "        cur_idx = 0\n",
    "        if cur is None:\n",
    "            raise Exception('The list is an empty list')\n",
    "        while cur_idx < idx-1:\n",
    "            cur = cur.next\n",
    "            if cur is None:\n",
    "                raise Exception('list length less than index')\n",
    "            cur_idx += 1\n",
    "        node = Node(value)\n",
    "        node.next = cur.next\n",
    "        cur.next = node\n",
    "        if node.next is None:\n",
    "            self.tail = node\n",
    "            \n",
    "    def remove(self, idx):\n",
    "        cur = self.head\n",
    "        cur_idx = 0\n",
    "        if self.head is None:  # 空链表时\n",
    "            raise Exception('The list is an empty list')\n",
    "        while cur_idx < idx-1:\n",
    "            cur = cur.next\n",
    "            if cur is None:\n",
    "                raise Exception('list length less than index')\n",
    "            cur_idx += 1\n",
    "        if idx == 0:   # 当删除第一个节点时\n",
    "            self.head = cur.next\n",
    "            cur = cur.next\n",
    "            return\n",
    "        if self.head is self.tail:   # 当只有一个节点的链表时\n",
    "            self.head = None\n",
    "            self.tail = None\n",
    "            return\n",
    "        cur.next = cur.next.next\n",
    "        if cur.next is None:  # 当删除的节点是链表最后一个节点时\n",
    "            self.tail = cur\n",
    "            \n",
    "    def size(self):\n",
    "        current = self.head\n",
    "        count = 0\n",
    "        if current is None:\n",
    "            return 'The list is an empty list'\n",
    "        while current is not None:\n",
    "            count += 1\n",
    "            current = current.next\n",
    "        return count\n",
    "    \n",
    "    def search(self, item):\n",
    "        current = self.head\n",
    "        found = False\n",
    "        while current is not None and not found:\n",
    "            if current.data == item:\n",
    "                found = True\n",
    "            else:\n",
    "                current = current.next\n",
    "        return found\n",
    "    \n",
    "if __name__ == '__main__':\n",
    "    link_list = LinkedList()"
   ]
  },
  {
   "cell_type": "code",
   "execution_count": null,
   "metadata": {},
   "outputs": [],
   "source": [
    "class Solution:\n",
    "    def addTwoNumbers(self, l1: ListNode, l2: ListNode) -> ListNode:\n",
    "        str1 = ''\n",
    "        while l1:\n",
    "            str1 += str(l1.val)\n",
    "            l1 = l1.next\n",
    "            \n",
    "        str2 = ''\n",
    "        while l2:\n",
    "            str2 += str(l2.val)\n",
    "            l2 = l2.next\n",
    "            \n",
    "        summ = int(str1[::-1]) + int(str2[::-1])\n",
    "        str3 = str(summ)[::-1]\n",
    "        \n",
    "        head = ListNode(str3[0])\n",
    "        answer = head\n",
    "        for i in range(1,len(str3)):\n",
    "            node = ListNode(str3[i])\n",
    "            head.next = node\n",
    "            head = head.next\n",
    "        \n",
    "        return answer"
   ]
  },
  {
   "cell_type": "markdown",
   "metadata": {},
   "source": [
    "### 3. Longest Substring Without Repeating Characters"
   ]
  },
  {
   "cell_type": "code",
   "execution_count": 137,
   "metadata": {},
   "outputs": [],
   "source": [
    "string = \"aabaaba!ba\""
   ]
  },
  {
   "cell_type": "code",
   "execution_count": 138,
   "metadata": {
    "scrolled": true
   },
   "outputs": [
    {
     "name": "stdout",
     "output_type": "stream",
     "text": [
      "a 1\n",
      "a 1\n",
      "ab 2\n",
      "ba 2\n",
      "a 2\n",
      "ab 2\n",
      "ba 2\n",
      "ba! 3\n",
      "a!b 3\n",
      "!ba 3\n"
     ]
    }
   ],
   "source": [
    "cur = ''\n",
    "length = []\n",
    "for i in range(len(string)):\n",
    "    \n",
    "    if string[i] in cur:\n",
    "        index = cur.find(string[i])\n",
    "        cur = cur[index+1:i]\n",
    "    if string[i] not in cur:\n",
    "        cur += string[i] \n",
    "    \n",
    "    length.append(len(cur))\n",
    "    \n",
    "    print(cur, max(length))\n",
    "    \n"
   ]
  },
  {
   "cell_type": "code",
   "execution_count": null,
   "metadata": {},
   "outputs": [],
   "source": [
    "class Solution:\n",
    "    def lengthOfLongestSubstring(self, s: str) -> int:\n",
    "        if s == \"\":\n",
    "            return 0\n",
    "        else:\n",
    "            cur = ''\n",
    "            length = []\n",
    "            for i in range(len(s)):\n",
    "\n",
    "                if s[i] in cur:\n",
    "                    index = cur.find(s[i])\n",
    "                    cur = cur[index+1:i]\n",
    "                if s[i] not in cur:\n",
    "                    cur += s[i] \n",
    "\n",
    "                length.append(len(cur))\n",
    "\n",
    "            return max(length)"
   ]
  },
  {
   "cell_type": "markdown",
   "metadata": {},
   "source": [
    "### 4. Median of Two Sorted Arrays"
   ]
  },
  {
   "cell_type": "code",
   "execution_count": 1,
   "metadata": {},
   "outputs": [],
   "source": [
    "nums1 = [1, 2]\n",
    "nums2 = [3, 4]"
   ]
  },
  {
   "cell_type": "code",
   "execution_count": 5,
   "metadata": {},
   "outputs": [],
   "source": [
    "nums = nums1 + nums2"
   ]
  },
  {
   "cell_type": "code",
   "execution_count": 6,
   "metadata": {},
   "outputs": [],
   "source": [
    "nums.sort()"
   ]
  },
  {
   "cell_type": "code",
   "execution_count": 10,
   "metadata": {},
   "outputs": [
    {
     "data": {
      "text/plain": [
       "2.5"
      ]
     },
     "execution_count": 10,
     "metadata": {},
     "output_type": "execute_result"
    }
   ],
   "source": [
    "import statistics\n",
    "statistics.median(nums)"
   ]
  },
  {
   "cell_type": "code",
   "execution_count": null,
   "metadata": {},
   "outputs": [],
   "source": [
    "def findMedianSortedArrays(self, nums1: List[int], nums2: List[int]) -> float:\n",
    "        nums = nums1 + nums2\n",
    "        import statistics\n",
    "        return statistics.median(nums) "
   ]
  },
  {
   "cell_type": "code",
   "execution_count": null,
   "metadata": {},
   "outputs": [],
   "source": [
    "def findMedianSortedArrays(self, nums1: List[int], nums2: List[int]) -> float:\n",
    "    a= sorted(nums1 + nums2)\n",
    "    l =len(a)\n",
    "    if(l == 0):\n",
    "        return 0.0\n",
    "    if(l%2==1):\n",
    "        m = int(l/2)\n",
    "        return float(a[m])\n",
    "    else:\n",
    "        m = int(l/2)-1\n",
    "        n = int(l/2)\n",
    "        return float((a[m]+a[n])/2)"
   ]
  },
  {
   "cell_type": "markdown",
   "metadata": {},
   "source": [
    "### 5. Longest Palindromic Substring"
   ]
  },
  {
   "cell_type": "code",
   "execution_count": 53,
   "metadata": {},
   "outputs": [],
   "source": [
    "s = \"babab\""
   ]
  },
  {
   "cell_type": "code",
   "execution_count": 54,
   "metadata": {
    "scrolled": true
   },
   "outputs": [
    {
     "name": "stdout",
     "output_type": "stream",
     "text": [
      "babab\n"
     ]
    }
   ],
   "source": [
    "longest = ''\n",
    "for i in range(len(s)):\n",
    "    for j in range(len(s)-1, i, -1):\n",
    "        if s[i:j+1] == s[i:j+1][::-1]:\n",
    "            if len(s[i:j+1]) > len(longest):\n",
    "                longest = s[i:j+1]\n",
    "                print(longest)\n",
    "                \n",
    "if longest == '':\n",
    "    print(s[0])\n",
    "            "
   ]
  },
  {
   "cell_type": "markdown",
   "metadata": {},
   "source": [
    "#### Brute force (find all substring and check)"
   ]
  },
  {
   "cell_type": "code",
   "execution_count": null,
   "metadata": {},
   "outputs": [],
   "source": [
    "class Solution:\n",
    "    def longestPalindrome(self, s: str) -> str:\n",
    "        if s == '':\n",
    "            return ''\n",
    "        \n",
    "        if len(s) == 1:\n",
    "            return s\n",
    "        \n",
    "        if len(s) == 2:\n",
    "            if s[0] == s[1]:\n",
    "                return s\n",
    "            else:\n",
    "                return s[0]\n",
    "            \n",
    "        longest = ''\n",
    "        for i in range(len(s)):\n",
    "            for j in range(len(s)-1, i, -1):\n",
    "                if s[i:j+1] == s[i:j+1][::-1]:\n",
    "                    if len(s[i:j+1]) > len(longest):\n",
    "                        longest = s[i:j+1]\n",
    "\n",
    "        if longest == '':\n",
    "            return s[0]\n",
    "        else: \n",
    "            return longest"
   ]
  },
  {
   "cell_type": "markdown",
   "metadata": {},
   "source": [
    "### 6. ZigZag Conversion"
   ]
  },
  {
   "cell_type": "markdown",
   "metadata": {},
   "source": [
    "Input: s = \"PAYPALISHIRING\", numRows = 3\n",
    "Output: \"PAHNAPLSIIGYIR\""
   ]
  },
  {
   "cell_type": "code",
   "execution_count": 67,
   "metadata": {},
   "outputs": [],
   "source": [
    "s = \"PAYPALISHIRING\"\n",
    "numRows = 3"
   ]
  },
  {
   "cell_type": "code",
   "execution_count": 73,
   "metadata": {},
   "outputs": [],
   "source": [
    "L = [''] * numRows"
   ]
  },
  {
   "cell_type": "code",
   "execution_count": 74,
   "metadata": {
    "scrolled": true
   },
   "outputs": [
    {
     "name": "stdout",
     "output_type": "stream",
     "text": [
      "0\n",
      "1 1 ['P', '', '']\n",
      "1\n",
      "2 1 ['P', 'A', '']\n",
      "2\n",
      "1 -1 ['P', 'A', 'Y']\n",
      "1\n",
      "0 -1 ['P', 'AP', 'Y']\n",
      "0\n",
      "1 1 ['PA', 'AP', 'Y']\n",
      "1\n",
      "2 1 ['PA', 'APL', 'Y']\n",
      "2\n",
      "1 -1 ['PA', 'APL', 'YI']\n",
      "1\n",
      "0 -1 ['PA', 'APLS', 'YI']\n",
      "0\n",
      "1 1 ['PAH', 'APLS', 'YI']\n",
      "1\n",
      "2 1 ['PAH', 'APLSI', 'YI']\n",
      "2\n",
      "1 -1 ['PAH', 'APLSI', 'YIR']\n",
      "1\n",
      "0 -1 ['PAH', 'APLSII', 'YIR']\n",
      "0\n",
      "1 1 ['PAHN', 'APLSII', 'YIR']\n",
      "1\n",
      "2 1 ['PAHN', 'APLSIIG', 'YIR']\n"
     ]
    }
   ],
   "source": [
    "index, step = 0, 1\n",
    "\n",
    "for x in s:\n",
    "    print(index)\n",
    "    L[index] += x\n",
    "    if index == 0:\n",
    "        step = 1\n",
    "    elif index == numRows -1:\n",
    "        step = -1\n",
    "    index += step\n",
    "    print(index,step, L)"
   ]
  },
  {
   "cell_type": "markdown",
   "metadata": {},
   "source": [
    "### 20. Valid Parentheses"
   ]
  },
  {
   "cell_type": "code",
   "execution_count": 77,
   "metadata": {},
   "outputs": [],
   "source": [
    "dic = {'(':')', '[':']', '{':'}'}"
   ]
  },
  {
   "cell_type": "code",
   "execution_count": 90,
   "metadata": {},
   "outputs": [],
   "source": [
    "s = \"\""
   ]
  },
  {
   "cell_type": "code",
   "execution_count": 91,
   "metadata": {},
   "outputs": [
    {
     "name": "stdout",
     "output_type": "stream",
     "text": [
      "True\n"
     ]
    }
   ],
   "source": [
    "if len(s)%2 != 0:\n",
    "    print(False)\n",
    "\n",
    "stack = []\n",
    "for x in s:\n",
    "    if x in dic.keys():\n",
    "        stack.append(x)\n",
    "        print(stack)\n",
    "    else:\n",
    "        if stack == []:\n",
    "            print(False)\n",
    "        else:\n",
    "            a = stack.pop()\n",
    "            print(x,stack)\n",
    "            if x != dic[a]:\n",
    "                print(False)\n",
    "        \n",
    "if stack == []:\n",
    "    print(True)\n",
    "else:\n",
    "    print(False) \n",
    "# return not stack\n",
    "        \n",
    "        "
   ]
  },
  {
   "cell_type": "markdown",
   "metadata": {},
   "source": [
    "### 21. Merge Two Sorted Lists"
   ]
  },
  {
   "cell_type": "code",
   "execution_count": 95,
   "metadata": {},
   "outputs": [],
   "source": [
    "class ListNode:\n",
    "    def __init__(self, x):\n",
    "        self.val = x\n",
    "        self.next = None"
   ]
  },
  {
   "cell_type": "code",
   "execution_count": null,
   "metadata": {},
   "outputs": [],
   "source": [
    "class Solution(object):\n",
    "     def mergeTwoLists(self, l1, l2):\n",
    "            head = temp =  ListNode(0) #head和temp的位置不一样，temp移动到最后一位了\n",
    "            while l1 or l2:\n",
    "                if l1 and l2:\n",
    "                    if l1.val < l2.val: # 比较数值\n",
    "                        temp.next = l1 #赋予的是node\n",
    "                        l1 = l1.next\n",
    "                    else:\n",
    "                        temp.next = l2\n",
    "                        l2 = l2.next                \n",
    "                elif l1:\n",
    "                    temp.next = l1\n",
    "                    l1 = l1.next\n",
    "                elif l2:\n",
    "                    temp.next = l2\n",
    "                    l2 = l2.next\n",
    "                temp = temp.next #别忘了移动temp指针\n",
    "            return head.next #head从0开始的，所以要移除0"
   ]
  },
  {
   "cell_type": "markdown",
   "metadata": {},
   "source": [
    "### 26. Remove Duplicates from Sorted Array"
   ]
  },
  {
   "cell_type": "code",
   "execution_count": 98,
   "metadata": {},
   "outputs": [],
   "source": [
    "list_distinct = []\n",
    "for x in nums:\n",
    "    if x not in list_distinct:\n",
    "        list_distinct.append(x)"
   ]
  },
  {
   "cell_type": "code",
   "execution_count": 99,
   "metadata": {},
   "outputs": [
    {
     "data": {
      "text/plain": [
       "[0, 1, 2, 3, 4]"
      ]
     },
     "execution_count": 99,
     "metadata": {},
     "output_type": "execute_result"
    }
   ],
   "source": [
    "list_distinct"
   ]
  },
  {
   "cell_type": "code",
   "execution_count": 149,
   "metadata": {},
   "outputs": [],
   "source": [
    "nums = [0,0,1,1,1,2,2,3,3,4]"
   ]
  },
  {
   "cell_type": "code",
   "execution_count": 128,
   "metadata": {
    "scrolled": true
   },
   "outputs": [
    {
     "name": "stdout",
     "output_type": "stream",
     "text": [
      "[0, 1, 2, 3, 4]\n"
     ]
    }
   ],
   "source": [
    "for i in range(len(nums),0,-1):\n",
    "    if nums[i-1] in nums[i:]:\n",
    "        del nums[i-1]\n",
    "\n",
    "print(nums)"
   ]
  },
  {
   "cell_type": "code",
   "execution_count": 152,
   "metadata": {},
   "outputs": [
    {
     "name": "stdout",
     "output_type": "stream",
     "text": [
      "[0, 1, 2, 3, 4]\n"
     ]
    }
   ],
   "source": [
    "n = 0\n",
    "while(n < len(nums)):\n",
    "    if(nums[n]==nums[n-1]):\n",
    "        del nums[n]\n",
    "    else:\n",
    "        n += 1\n",
    "print(nums)"
   ]
  },
  {
   "cell_type": "markdown",
   "metadata": {},
   "source": [
    "### 27. Remove Element"
   ]
  },
  {
   "cell_type": "code",
   "execution_count": 159,
   "metadata": {},
   "outputs": [],
   "source": [
    "nums = [0,1,2,2,3,0,4,2]\n",
    "val = 2"
   ]
  },
  {
   "cell_type": "code",
   "execution_count": 160,
   "metadata": {},
   "outputs": [
    {
     "name": "stdout",
     "output_type": "stream",
     "text": [
      "[0, 1, 3, 0, 4]\n"
     ]
    }
   ],
   "source": [
    "n = 0\n",
    "while n < len(nums):\n",
    "    if nums[n] == val:\n",
    "        del nums[n]\n",
    "    else:\n",
    "        n += 1\n",
    "print(nums)"
   ]
  },
  {
   "cell_type": "markdown",
   "metadata": {},
   "source": [
    "### 28. Implement strStr()"
   ]
  },
  {
   "cell_type": "code",
   "execution_count": 170,
   "metadata": {},
   "outputs": [],
   "source": [
    "haystack = \"hello\"\n",
    "needle = \"a\""
   ]
  },
  {
   "cell_type": "code",
   "execution_count": 171,
   "metadata": {},
   "outputs": [
    {
     "name": "stdout",
     "output_type": "stream",
     "text": [
      "-1\n"
     ]
    }
   ],
   "source": [
    "if needle in haystack:\n",
    "    print(haystack.find(needle))\n",
    "else:\n",
    "    print(-1)"
   ]
  },
  {
   "cell_type": "markdown",
   "metadata": {},
   "source": [
    "### 35. Search Insert Position"
   ]
  },
  {
   "cell_type": "code",
   "execution_count": 182,
   "metadata": {},
   "outputs": [],
   "source": [
    "nums = [1,3,5,6]\n",
    "target = 7"
   ]
  },
  {
   "cell_type": "code",
   "execution_count": 184,
   "metadata": {},
   "outputs": [
    {
     "name": "stdout",
     "output_type": "stream",
     "text": [
      "4\n"
     ]
    }
   ],
   "source": [
    "if target in nums:\n",
    "    print(nums.index(target))\n",
    "else:\n",
    "    nums.append(target)\n",
    "    print(sorted(nums).index(target))"
   ]
  },
  {
   "cell_type": "markdown",
   "metadata": {},
   "source": [
    "### 38. Count and Say"
   ]
  },
  {
   "cell_type": "markdown",
   "metadata": {},
   "source": [
    "1.     1\n",
    "2.     11\n",
    "3.     21\n",
    "4.     1211\n",
    "5.     111221"
   ]
  },
  {
   "cell_type": "code",
   "execution_count": 25,
   "metadata": {},
   "outputs": [],
   "source": [
    "s = '111221'"
   ]
  },
  {
   "cell_type": "code",
   "execution_count": 31,
   "metadata": {},
   "outputs": [],
   "source": [
    "def mapping(s):\n",
    "    string = ''\n",
    "    count = 1\n",
    "    for i in range(len(s)):\n",
    "        if i == 0:\n",
    "            prev = s[0]\n",
    "        else:\n",
    "            prev = s[i-1]\n",
    "            if i == len(s)-1:\n",
    "                if s[i] == prev:\n",
    "                    count += 1\n",
    "                    string += str(count) + str(prev)\n",
    "                else:\n",
    "                    string += str(count) + str(prev) + str(1) + str(s[i])               \n",
    "            else:\n",
    "                if s[i] == prev:\n",
    "                    count += 1\n",
    "                else:          \n",
    "                    string += str(count) + str(prev)\n",
    "                    count = 1\n",
    "    return string"
   ]
  },
  {
   "cell_type": "code",
   "execution_count": 34,
   "metadata": {},
   "outputs": [],
   "source": [
    "s_list = ['1','11']\n",
    "for n in range(2,31):\n",
    "    s = s_list[n-1]\n",
    "    string = mapping(s)\n",
    "    s_list.append(string)"
   ]
  },
  {
   "cell_type": "code",
   "execution_count": 36,
   "metadata": {},
   "outputs": [
    {
     "data": {
      "text/plain": [
       "'1'"
      ]
     },
     "execution_count": 36,
     "metadata": {},
     "output_type": "execute_result"
    }
   ],
   "source": [
    "class Solution:\n",
    "    def countAndSay(self, n: int) -> str:\n",
    "        def mapping(s):\n",
    "            string = ''\n",
    "            count = 1\n",
    "            for i in range(len(s)):\n",
    "                if i == 0:\n",
    "                    prev = s[0]\n",
    "                else:\n",
    "                    prev = s[i-1]\n",
    "                    if i == len(s)-1:\n",
    "                        if s[i] == prev:\n",
    "                            count += 1\n",
    "                            string += str(count) + str(prev)\n",
    "                        else:\n",
    "                            string += str(count) + str(prev) + str(1) + str(s[i])               \n",
    "                    else:\n",
    "                        if s[i] == prev:\n",
    "                            count += 1\n",
    "                        else:          \n",
    "                            string += str(count) + str(prev)\n",
    "                            count = 1\n",
    "            return string\n",
    "        \n",
    "        s_list = ['1','11']\n",
    "        for i in range(2,31):\n",
    "            s = s_list[i-1]\n",
    "            string = mapping(s)\n",
    "            s_list.append(string)\n",
    "            \n",
    "        return s_list[n-1]"
   ]
  },
  {
   "cell_type": "markdown",
   "metadata": {},
   "source": [
    "### 8. String to Integer (atoi)"
   ]
  },
  {
   "cell_type": "code",
   "execution_count": 207,
   "metadata": {},
   "outputs": [],
   "source": [
    "s = \"   -42\""
   ]
  },
  {
   "cell_type": "code",
   "execution_count": 219,
   "metadata": {},
   "outputs": [],
   "source": [
    "s = s.lstrip()\n",
    "num = ''\n",
    "if s[0] in ['+', '-']:\n",
    "    num += s[0]\n",
    "    str = s[1:]\n",
    "    \n",
    "for item in str:\n",
    "    if item.isdigit():\n",
    "        num += item\n",
    "    else:\n",
    "        break\n",
    "        \n",
    "integer = int(num)\n",
    "if integer < - 2**31:\n",
    "    return (- 2**31)\n",
    "elif integer > 2**31 - 1:\n",
    "    return (2**31 - 1)\n",
    "else:\n",
    "    return integer"
   ]
  },
  {
   "cell_type": "code",
   "execution_count": 221,
   "metadata": {},
   "outputs": [],
   "source": [
    "class Solution:\n",
    "    def myAtoi(self, str: str) -> int:\n",
    "        \n",
    "        if not str:\n",
    "            return 0\n",
    "        \n",
    "        str = str.lstrip(' ')\n",
    "\n",
    "        num = ''\n",
    "        if str[0] in ['+', '-']:\n",
    "            num += str[0]\n",
    "            str = str[1:]\n",
    "\n",
    "        for item in str:\n",
    "            if item.isdigit():\n",
    "                num += item\n",
    "            else:\n",
    "                break\n",
    "            \n",
    "        try:  # use try is much better than list all situations\n",
    "            value = int(num)\n",
    "            if (value.bit_length() >= 32):\n",
    "                return (2**31-1) if value > 0 else -2**31\n",
    "            return value\n",
    "        except ValueError:\n",
    "            return 0"
   ]
  },
  {
   "cell_type": "markdown",
   "metadata": {},
   "source": [
    "### 344. Reverse String"
   ]
  },
  {
   "cell_type": "code",
   "execution_count": 1,
   "metadata": {},
   "outputs": [],
   "source": [
    "s = [\"h\",\"e\",\"l\",\"l\",\"o\"]"
   ]
  },
  {
   "cell_type": "code",
   "execution_count": 4,
   "metadata": {},
   "outputs": [],
   "source": [
    "s.reverse()"
   ]
  },
  {
   "cell_type": "code",
   "execution_count": 5,
   "metadata": {},
   "outputs": [
    {
     "data": {
      "text/plain": [
       "['o', 'l', 'l', 'e', 'h']"
      ]
     },
     "execution_count": 5,
     "metadata": {},
     "output_type": "execute_result"
    }
   ],
   "source": [
    "s"
   ]
  },
  {
   "cell_type": "markdown",
   "metadata": {},
   "source": [
    "### 53. Maximum Subarray"
   ]
  },
  {
   "cell_type": "code",
   "execution_count": 48,
   "metadata": {},
   "outputs": [],
   "source": [
    "nums = [-2,-1]"
   ]
  },
  {
   "cell_type": "code",
   "execution_count": 51,
   "metadata": {},
   "outputs": [
    {
     "name": "stdout",
     "output_type": "stream",
     "text": [
      "[-2]\n",
      "[-2, -1]\n",
      "[-2, -1]\n",
      "[-1]\n",
      "[-1]\n"
     ]
    }
   ],
   "source": [
    "# Sol 1\n",
    "sum_list = []\n",
    "for i in range(len(nums)):\n",
    "    for j in range(i,len(nums)+1):\n",
    "        sum_list.append(nums[i:j+1])  # time-limit exceed"
   ]
  },
  {
   "cell_type": "code",
   "execution_count": 52,
   "metadata": {},
   "outputs": [
    {
     "name": "stdout",
     "output_type": "stream",
     "text": [
      "-1\n"
     ]
    }
   ],
   "source": [
    "# Sol 2\n",
    "curr_sum = nums[0]\n",
    "max_sum = nums[0]\n",
    "for num in nums[1:]:\n",
    "    curr_sum += num # add next num\n",
    "    max_sum = max(curr_sum, max_sum, num) # find max of sum\n",
    "    curr_sum = max(curr_sum, num) # if curr_sum is less than current num, replace current num as current sum\n",
    "    \n",
    "print(max_sum)"
   ]
  },
  {
   "cell_type": "markdown",
   "metadata": {},
   "source": [
    "### 104. Maximum Depth of Binary Tree"
   ]
  },
  {
   "cell_type": "code",
   "execution_count": 1,
   "metadata": {},
   "outputs": [],
   "source": [
    "class TreeNode:\n",
    "    def __init__(self, x):\n",
    "        self.val = x\n",
    "        self.left = None\n",
    "        self.right = None"
   ]
  },
  {
   "cell_type": "code",
   "execution_count": null,
   "metadata": {},
   "outputs": [],
   "source": [
    "class Solution: # recursive\n",
    "    def maxDepth(self, root: TreeNode) -> int:\n",
    "        if root:\n",
    "            return max(self.maxDepth(root.left), self.maxDepth(root.right)) + 1\n",
    "        else:\n",
    "            return 0"
   ]
  },
  {
   "cell_type": "code",
   "execution_count": null,
   "metadata": {},
   "outputs": [],
   "source": [
    "class Solution:\n",
    "    def maxDepth(self, root):\n",
    "        \"\"\"\n",
    "        :type root: TreeNode\n",
    "        :rtype: int\n",
    "        \"\"\"\n",
    "        if not root:#递归边界\n",
    "            return 0\n",
    "        else:\n",
    "            l=1+self.maxDepth(root.left)#递归: if root.left exists, +1; if not root.left, +0.\n",
    "            r=1+self.maxDepth(root.right)\n",
    "            return max(l,r)\n"
   ]
  },
  {
   "cell_type": "markdown",
   "metadata": {},
   "source": [
    "### 66. Plus One"
   ]
  },
  {
   "cell_type": "code",
   "execution_count": 2,
   "metadata": {},
   "outputs": [],
   "source": [
    "digits = [4,3,2,1]"
   ]
  },
  {
   "cell_type": "code",
   "execution_count": 6,
   "metadata": {},
   "outputs": [],
   "source": [
    "string = ''.join(str(a) for a in digits) # convert list of integer to string"
   ]
  },
  {
   "cell_type": "code",
   "execution_count": 13,
   "metadata": {},
   "outputs": [],
   "source": [
    "lst = []\n",
    "for item in str(int(string)+1):\n",
    "    lst.append(int(item))"
   ]
  },
  {
   "cell_type": "code",
   "execution_count": 15,
   "metadata": {},
   "outputs": [
    {
     "data": {
      "text/plain": [
       "[4, 3, 2, 2]"
      ]
     },
     "execution_count": 15,
     "metadata": {},
     "output_type": "execute_result"
    }
   ],
   "source": [
    "lst"
   ]
  },
  {
   "cell_type": "markdown",
   "metadata": {},
   "source": [
    "### 69. Sqrt(x)"
   ]
  },
  {
   "cell_type": "code",
   "execution_count": null,
   "metadata": {},
   "outputs": [],
   "source": [
    "import math # use math not numpy\n",
    "sqrt = math.floor(math.sqrt(x))"
   ]
  },
  {
   "cell_type": "markdown",
   "metadata": {},
   "source": [
    "### 70. Climbing Stairs"
   ]
  },
  {
   "cell_type": "code",
   "execution_count": 32,
   "metadata": {},
   "outputs": [
    {
     "name": "stdout",
     "output_type": "stream",
     "text": [
      "1\n",
      "2\n",
      "3\n",
      "5\n",
      "8\n",
      "13\n",
      "21\n",
      "34\n",
      "55\n",
      "89\n"
     ]
    }
   ],
   "source": [
    "# just a fibonacci\n",
    "n=10\n",
    "a,b = 1,1\n",
    "for i in range(n):\n",
    "    a,b = b,a+b\n",
    "    print(a)"
   ]
  },
  {
   "cell_type": "code",
   "execution_count": 19,
   "metadata": {},
   "outputs": [],
   "source": [
    "# math way\n",
    "import math\n",
    "n = 10\n",
    "count = 0\n",
    "a = n//2\n",
    "        \n",
    "c = 0 \n",
    "for i in range(a+1):\n",
    "    c += math.factorial(n-i)/(math.factorial(n-2*i)*math.factorial(i)) "
   ]
  },
  {
   "cell_type": "code",
   "execution_count": 20,
   "metadata": {},
   "outputs": [
    {
     "data": {
      "text/plain": [
       "89"
      ]
     },
     "execution_count": 20,
     "metadata": {},
     "output_type": "execute_result"
    }
   ],
   "source": [
    "int(c)"
   ]
  },
  {
   "cell_type": "markdown",
   "metadata": {},
   "source": [
    "### 88. Merge Sorted Array"
   ]
  },
  {
   "cell_type": "code",
   "execution_count": 10,
   "metadata": {},
   "outputs": [],
   "source": [
    "nums1 = [1,2,3,0,0,0]\n",
    "m = 3\n",
    "nums2 = [2,5,6]\n",
    "n = 3"
   ]
  },
  {
   "cell_type": "code",
   "execution_count": 5,
   "metadata": {},
   "outputs": [],
   "source": [
    "nums1[m:n+m] = nums2\n",
    "nums1.sort()"
   ]
  },
  {
   "cell_type": "markdown",
   "metadata": {},
   "source": [
    "### 101. Symmetric Tree (unsolved)"
   ]
  },
  {
   "cell_type": "code",
   "execution_count": null,
   "metadata": {},
   "outputs": [],
   "source": [
    "# other's answer\n",
    "def isSymmetric(self, root):\n",
    "    if not root:\n",
    "        return True\n",
    "    queue = []\n",
    "    queue.append((root.left, root.right)) #append all left and all right\n",
    "    while queue:\n",
    "        l, r = queue.pop(0)\n",
    "        if not l and not r:\n",
    "            continue\n",
    "        if not l or not r:\n",
    "            return False\n",
    "        if l.val != r.val:\n",
    "            return False\n",
    "        queue.append((l.left, r.right)) # move the node to each side\n",
    "        queue.append((l.right, r.left))\n",
    "    return True"
   ]
  },
  {
   "cell_type": "code",
   "execution_count": 79,
   "metadata": {},
   "outputs": [
    {
     "name": "stdout",
     "output_type": "stream",
     "text": [
      "2019-06-30 14:13:58.300947\n"
     ]
    }
   ],
   "source": [
    "time()"
   ]
  },
  {
   "cell_type": "markdown",
   "metadata": {},
   "source": [
    "### 118"
   ]
  },
  {
   "cell_type": "code",
   "execution_count": 1,
   "metadata": {},
   "outputs": [],
   "source": [
    "numRows = 5"
   ]
  },
  {
   "cell_type": "code",
   "execution_count": 38,
   "metadata": {},
   "outputs": [],
   "source": [
    "nums = [[1 for i in range(j+1)]for j in range(numRows)]"
   ]
  },
  {
   "cell_type": "code",
   "execution_count": 42,
   "metadata": {
    "scrolled": true
   },
   "outputs": [
    {
     "data": {
      "text/plain": [
       "[[1], [1, 1], [1, 2, 1], [1, 3, 3, 1], [1, 4, 6, 4, 1]]"
      ]
     },
     "execution_count": 42,
     "metadata": {},
     "output_type": "execute_result"
    }
   ],
   "source": [
    "nums"
   ]
  },
  {
   "cell_type": "code",
   "execution_count": 41,
   "metadata": {},
   "outputs": [],
   "source": [
    "for i in range(2,numRows):\n",
    "    for j in range(1,i):\n",
    "        nums[i][j] = nums[i-1][j-1] + nums[i-1][j]   "
   ]
  },
  {
   "cell_type": "markdown",
   "metadata": {},
   "source": [
    "### 121 Single time stock profit"
   ]
  },
  {
   "cell_type": "code",
   "execution_count": 45,
   "metadata": {},
   "outputs": [],
   "source": [
    "prices = [7,1,5,3,6,4]"
   ]
  },
  {
   "cell_type": "code",
   "execution_count": null,
   "metadata": {},
   "outputs": [],
   "source": [
    "def maxProfit(self, prices: List[int]) -> int: # memory exceeds\n",
    "    if not prices or len(prices) == 1:\n",
    "        return 0\n",
    "\n",
    "    profit = [] # list takes a lot of memory\n",
    "    for i in range(len(prices)):\n",
    "        for j in range(i+1,len(prices)):\n",
    "            diff = prices[j] - prices[i]\n",
    "            profit.append(diff)\n",
    "\n",
    "    if max(profit) < 0:\n",
    "        return 0\n",
    "    else:\n",
    "        return max(profit)"
   ]
  },
  {
   "cell_type": "code",
   "execution_count": 55,
   "metadata": {},
   "outputs": [],
   "source": [
    "profit = 0  # exceed time limit\n",
    "for i in range(len(prices)): #loop takes a lot of time\n",
    "    for j in range(i+1,len(prices)):\n",
    "        diff = prices[j] - prices[i]\n",
    "        if diff > profit:\n",
    "            profit = diff"
   ]
  },
  {
   "cell_type": "code",
   "execution_count": 61,
   "metadata": {},
   "outputs": [],
   "source": [
    "lowest = float('inf') #infinity, used to find lowest in comparison\n",
    "profit = 0\n",
    "\n",
    "for price in prices:\n",
    "    lowest = min(price,lowest)\n",
    "    diff = price - lowest\n",
    "    profit = max(diff,profit)"
   ]
  },
  {
   "cell_type": "markdown",
   "metadata": {},
   "source": [
    "### 122 multiple times stock sell"
   ]
  },
  {
   "cell_type": "code",
   "execution_count": 64,
   "metadata": {},
   "outputs": [],
   "source": [
    "prices = [7,1,5,3,6,4]"
   ]
  },
  {
   "cell_type": "code",
   "execution_count": 73,
   "metadata": {},
   "outputs": [
    {
     "name": "stdout",
     "output_type": "stream",
     "text": [
      "4\n",
      "3\n"
     ]
    }
   ],
   "source": [
    "prev = prices[0]\n",
    "profit = 0\n",
    "\n",
    "for i,price in enumerate(prices):\n",
    "    if prices[i] > prev:\n",
    "        diff = prices[i] - prev\n",
    "        profit += diff\n",
    "    prev = prices[i]"
   ]
  },
  {
   "cell_type": "code",
   "execution_count": 74,
   "metadata": {},
   "outputs": [
    {
     "data": {
      "text/plain": [
       "7"
      ]
     },
     "execution_count": 74,
     "metadata": {},
     "output_type": "execute_result"
    }
   ],
   "source": [
    "def maxProfit(self, prices: List[int]) -> int:\n",
    "    if not prices or len(prices) == 1:\n",
    "        return 0\n",
    "\n",
    "    prev = prices[0]\n",
    "    profit = 0\n",
    "\n",
    "    for i,price in enumerate(prices):\n",
    "        if prices[i] > prev:\n",
    "            diff = prices[i] - prev\n",
    "            profit += diff\n",
    "        prev = prices[i]\n",
    "\n",
    "    return profit"
   ]
  },
  {
   "cell_type": "markdown",
   "metadata": {},
   "source": [
    "### 125"
   ]
  },
  {
   "cell_type": "code",
   "execution_count": 81,
   "metadata": {},
   "outputs": [],
   "source": [
    "s = \"A man, a plan, a canal: Panama\""
   ]
  },
  {
   "cell_type": "code",
   "execution_count": 84,
   "metadata": {},
   "outputs": [],
   "source": [
    "s_strip = ''.join(ch for ch in s if ch.isalnum()) # leave only alnum"
   ]
  },
  {
   "cell_type": "code",
   "execution_count": 92,
   "metadata": {},
   "outputs": [],
   "source": [
    "string = s_strip.lower()"
   ]
  },
  {
   "cell_type": "code",
   "execution_count": 93,
   "metadata": {},
   "outputs": [
    {
     "data": {
      "text/plain": [
       "'amanaplanacanalpanama'"
      ]
     },
     "execution_count": 93,
     "metadata": {},
     "output_type": "execute_result"
    }
   ],
   "source": [
    "if string == string[::-1]:\n",
    "    return True"
   ]
  },
  {
   "cell_type": "code",
   "execution_count": null,
   "metadata": {},
   "outputs": [],
   "source": [
    "def isPalindrome(self, s: str) -> bool:\n",
    "    if not str:\n",
    "        return True\n",
    "\n",
    "    s_strip = ''.join(ch for ch in s if ch.isalnum())\n",
    "    string = s_strip.lower()\n",
    "    if string == string[::-1]:\n",
    "        return True\n",
    "    else:\n",
    "        return False"
   ]
  },
  {
   "cell_type": "markdown",
   "metadata": {},
   "source": [
    "### 136. Single Number"
   ]
  },
  {
   "cell_type": "code",
   "execution_count": 107,
   "metadata": {},
   "outputs": [],
   "source": [
    "nums = [4,1,2,1,2]"
   ]
  },
  {
   "cell_type": "code",
   "execution_count": 101,
   "metadata": {},
   "outputs": [],
   "source": [
    "redundant = []\n",
    "for num in nums:\n",
    "    if nums.count(num) > 1:\n",
    "        redundant.append(num)"
   ]
  },
  {
   "cell_type": "code",
   "execution_count": null,
   "metadata": {},
   "outputs": [],
   "source": [
    "for num in nums:\n",
    "    if num not in redundant:\n",
    "        return num  # time limit exceeds"
   ]
  },
  {
   "cell_type": "code",
   "execution_count": 108,
   "metadata": {},
   "outputs": [],
   "source": [
    "l = set()\n",
    "for num in nums:\n",
    "    if num not in l:\n",
    "        l.add(num)\n",
    "    else:\n",
    "        l.remove(num) # use set/hash table"
   ]
  },
  {
   "cell_type": "markdown",
   "metadata": {},
   "source": [
    "### 155. Min Stack"
   ]
  },
  {
   "cell_type": "code",
   "execution_count": 111,
   "metadata": {},
   "outputs": [],
   "source": [
    "class MinStack:\n",
    "\n",
    "    def __init__(self):\n",
    "        \"\"\"\n",
    "        initialize your data structure here.\n",
    "        \"\"\"\n",
    "        self.stack = []\n",
    "        \n",
    "\n",
    "    def push(self, x: int) -> None:\n",
    "        self.stack.append(x)\n",
    "        \n",
    "\n",
    "    def pop(self) -> None:\n",
    "        self.stack.pop()\n",
    "\n",
    "    def top(self) -> int:\n",
    "        return self.stack[-1]\n",
    "\n",
    "    def getMin(self) -> int:\n",
    "        return min(self.stack)\n",
    "\n"
   ]
  },
  {
   "cell_type": "code",
   "execution_count": 114,
   "metadata": {},
   "outputs": [],
   "source": [
    "# Your MinStack object will be instantiated and called as such:\n",
    "obj = MinStack()\n",
    "obj.push(3)\n",
    "obj.push(4)\n",
    "obj.pop()\n",
    "param_3 = obj.top()\n",
    "param_4 = obj.getMin()"
   ]
  },
  {
   "cell_type": "markdown",
   "metadata": {},
   "source": [
    "### 169. Majority Element"
   ]
  },
  {
   "cell_type": "code",
   "execution_count": 2,
   "metadata": {},
   "outputs": [
    {
     "name": "stdout",
     "output_type": "stream",
     "text": [
      "2019-07-01 22:17:49.078780\n"
     ]
    }
   ],
   "source": [
    "time()"
   ]
  },
  {
   "cell_type": "code",
   "execution_count": 3,
   "metadata": {},
   "outputs": [],
   "source": [
    "nums = [2,2,1,1,1,2,2]"
   ]
  },
  {
   "cell_type": "code",
   "execution_count": 4,
   "metadata": {},
   "outputs": [],
   "source": [
    "dic = {}\n",
    "for num in nums:\n",
    "    if num not in dic.keys():\n",
    "        dic[num] = 1\n",
    "    else:\n",
    "        dic[num] += 1"
   ]
  },
  {
   "cell_type": "code",
   "execution_count": 6,
   "metadata": {},
   "outputs": [
    {
     "name": "stdout",
     "output_type": "stream",
     "text": [
      "2\n"
     ]
    }
   ],
   "source": [
    "for key, val in dic.items():\n",
    "    if val > len(nums)/2:\n",
    "        print(key)"
   ]
  },
  {
   "cell_type": "code",
   "execution_count": null,
   "metadata": {},
   "outputs": [],
   "source": [
    "def majorityElement(self, nums: List[int]) -> int:\n",
    "    if not nums:\n",
    "        return 0\n",
    "    dic = {}\n",
    "    for num in nums:\n",
    "        if num not in dic.keys():\n",
    "            dic[num] = 1\n",
    "        else:\n",
    "            dic[num] += 1\n",
    "\n",
    "    for key, val in dic.items():\n",
    "        if val >= len(nums)/2:\n",
    "            return key"
   ]
  },
  {
   "cell_type": "markdown",
   "metadata": {},
   "source": [
    "### 171. Excel Sheet Column Number (26进制转10进制）"
   ]
  },
  {
   "cell_type": "code",
   "execution_count": 8,
   "metadata": {},
   "outputs": [
    {
     "data": {
      "text/plain": [
       "65"
      ]
     },
     "execution_count": 8,
     "metadata": {},
     "output_type": "execute_result"
    }
   ],
   "source": [
    "ord('A') # Unicode code point of \"A\"  65-64 = 1"
   ]
  },
  {
   "cell_type": "code",
   "execution_count": 12,
   "metadata": {},
   "outputs": [
    {
     "data": {
      "text/plain": [
       "90"
      ]
     },
     "execution_count": 12,
     "metadata": {},
     "output_type": "execute_result"
    }
   ],
   "source": [
    "ord('Z')"
   ]
  },
  {
   "cell_type": "code",
   "execution_count": 27,
   "metadata": {},
   "outputs": [],
   "source": [
    "s = \"ABCDEF\""
   ]
  },
  {
   "cell_type": "code",
   "execution_count": 28,
   "metadata": {},
   "outputs": [],
   "source": [
    "num = 0\n",
    "digit = 0\n",
    "for i in range(len(s)-1,-1,-1):\n",
    "    num += (ord(s[i])-64)*pow(26,digit)\n",
    "    digit += 1"
   ]
  },
  {
   "cell_type": "code",
   "execution_count": 29,
   "metadata": {},
   "outputs": [
    {
     "data": {
      "text/plain": [
       "12850896"
      ]
     },
     "execution_count": 29,
     "metadata": {},
     "output_type": "execute_result"
    }
   ],
   "source": [
    "num"
   ]
  },
  {
   "cell_type": "code",
   "execution_count": null,
   "metadata": {},
   "outputs": [],
   "source": [
    "def titleToNumber(self, s: str) -> int:\n",
    "    num = 0\n",
    "    digit = 0\n",
    "    for i in range(len(s)-1,-1,-1):\n",
    "        num += (ord(s[i])-64)*pow(26,digit)\n",
    "        digit += 1\n",
    "\n",
    "    return num"
   ]
  },
  {
   "cell_type": "markdown",
   "metadata": {},
   "source": [
    "### 172. Factorial Trailing Zeroes (尾随0）"
   ]
  },
  {
   "cell_type": "code",
   "execution_count": 41,
   "metadata": {},
   "outputs": [],
   "source": [
    "import math\n",
    "n = 10\n",
    "s = str(math.factorial(n))\n",
    "count = 0\n",
    "for i in range(len(s)-1,-1,-1):\n",
    "    if s[i] == '0':\n",
    "        count +=1\n",
    "        continue\n",
    "    else:\n",
    "        break  # time limit exceeds"
   ]
  },
  {
   "cell_type": "code",
   "execution_count": 71,
   "metadata": {},
   "outputs": [],
   "source": [
    "# check how many 5 in row since 2 is always more than 5--> 2x5=10\n",
    "n = 10\n",
    "num = 5\n",
    "count = 0\n",
    "while n >= num:\n",
    "    count += n//num\n",
    "    num = num*5"
   ]
  },
  {
   "cell_type": "code",
   "execution_count": 72,
   "metadata": {},
   "outputs": [
    {
     "data": {
      "text/plain": [
       "2"
      ]
     },
     "execution_count": 72,
     "metadata": {},
     "output_type": "execute_result"
    }
   ],
   "source": [
    "count"
   ]
  },
  {
   "cell_type": "markdown",
   "metadata": {},
   "source": [
    "### 189. Rotate Array"
   ]
  },
  {
   "cell_type": "code",
   "execution_count": 96,
   "metadata": {},
   "outputs": [],
   "source": [
    "nums = [1,2,3,4,5,6,7]\n",
    "k = 3"
   ]
  },
  {
   "cell_type": "code",
   "execution_count": 99,
   "metadata": {},
   "outputs": [],
   "source": [
    "temp1 = nums[0:len(nums)-k]\n",
    "temp2 = nums[-k:]"
   ]
  },
  {
   "cell_type": "code",
   "execution_count": 100,
   "metadata": {},
   "outputs": [],
   "source": [
    "nums[0:k] = temp2\n",
    "nums[k:] = temp1"
   ]
  },
  {
   "cell_type": "code",
   "execution_count": 101,
   "metadata": {},
   "outputs": [
    {
     "data": {
      "text/plain": [
       "[5, 6, 7, 1, 2, 3, 4]"
      ]
     },
     "execution_count": 101,
     "metadata": {},
     "output_type": "execute_result"
    }
   ],
   "source": [
    "nums"
   ]
  },
  {
   "cell_type": "code",
   "execution_count": 103,
   "metadata": {},
   "outputs": [
    {
     "data": {
      "text/plain": [
       "1"
      ]
     },
     "execution_count": 103,
     "metadata": {},
     "output_type": "execute_result"
    }
   ],
   "source": [
    "5%2"
   ]
  },
  {
   "cell_type": "code",
   "execution_count": null,
   "metadata": {},
   "outputs": [],
   "source": [
    "def rotate(self, nums: List[int], k: int) -> None:\n",
    "    \"\"\"\n",
    "    Do not return anything, modify nums in-place instead.\n",
    "    \"\"\"\n",
    "    if k > len(nums):\n",
    "        k = k%len(nums)\n",
    "\n",
    "    temp1 = nums[0:len(nums)-k]\n",
    "    temp2 = nums[-k:]\n",
    "    nums[0:k] = temp2\n",
    "    nums[k:] = temp1\n"
   ]
  },
  {
   "cell_type": "markdown",
   "metadata": {},
   "source": [
    "### 190"
   ]
  },
  {
   "cell_type": "code",
   "execution_count": 9,
   "metadata": {},
   "outputs": [
    {
     "data": {
      "text/plain": [
       "str"
      ]
     },
     "execution_count": 9,
     "metadata": {},
     "output_type": "execute_result"
    }
   ],
   "source": [
    "bin(6)"
   ]
  },
  {
   "cell_type": "code",
   "execution_count": 8,
   "metadata": {},
   "outputs": [
    {
     "data": {
      "text/plain": [
       "'100000'"
      ]
     },
     "execution_count": 8,
     "metadata": {},
     "output_type": "execute_result"
    }
   ],
   "source": [
    "f'{32:b}'"
   ]
  },
  {
   "cell_type": "code",
   "execution_count": 2,
   "metadata": {},
   "outputs": [
    {
     "data": {
      "text/plain": [
       "4294967293"
      ]
     },
     "execution_count": 2,
     "metadata": {},
     "output_type": "execute_result"
    }
   ],
   "source": [
    "int('11111111111111111111111111111101',2)"
   ]
  },
  {
   "cell_type": "code",
   "execution_count": 2,
   "metadata": {},
   "outputs": [],
   "source": [
    "n = 43261596"
   ]
  },
  {
   "cell_type": "code",
   "execution_count": 3,
   "metadata": {},
   "outputs": [],
   "source": [
    "s = '{:032b}'.format(n) # convert int to 32-bit binary\n",
    "r = s[::-1]"
   ]
  },
  {
   "cell_type": "code",
   "execution_count": 7,
   "metadata": {},
   "outputs": [
    {
     "data": {
      "text/plain": [
       "964176192"
      ]
     },
     "execution_count": 7,
     "metadata": {},
     "output_type": "execute_result"
    }
   ],
   "source": [
    "int(r,2) # convert binary to int"
   ]
  },
  {
   "cell_type": "code",
   "execution_count": null,
   "metadata": {},
   "outputs": [],
   "source": [
    "class Solution:\n",
    "    # @param n, an integer\n",
    "    # @return an integer\n",
    "    def reverseBits(self, n):\n",
    "        s = '{:032b}'.format(n)\n",
    "        r = s[::-1]\n",
    "        \n",
    "        return int(r,2)"
   ]
  },
  {
   "cell_type": "markdown",
   "metadata": {},
   "source": [
    "### 191. Number of 1 Bits"
   ]
  },
  {
   "cell_type": "code",
   "execution_count": null,
   "metadata": {},
   "outputs": [],
   "source": [
    "s = '{:032b}'.format(n)"
   ]
  },
  {
   "cell_type": "code",
   "execution_count": 8,
   "metadata": {},
   "outputs": [
    {
     "data": {
      "text/plain": [
       "12"
      ]
     },
     "execution_count": 8,
     "metadata": {},
     "output_type": "execute_result"
    }
   ],
   "source": [
    "s.count('1')"
   ]
  },
  {
   "cell_type": "code",
   "execution_count": null,
   "metadata": {},
   "outputs": [],
   "source": [
    "def hammingWeight(self, n):\n",
    "    \"\"\"\n",
    "    :type n: int\n",
    "    :rtype: int\n",
    "    \"\"\"\n",
    "    s = '{:032b}'.format(n)\n",
    "    return s.count('1')"
   ]
  },
  {
   "cell_type": "markdown",
   "metadata": {},
   "source": [
    "### 198. House Robber"
   ]
  },
  {
   "cell_type": "code",
   "execution_count": 3,
   "metadata": {},
   "outputs": [],
   "source": [
    "nums = [2,7,9,3,1]"
   ]
  },
  {
   "cell_type": "code",
   "execution_count": 13,
   "metadata": {},
   "outputs": [],
   "source": [
    "# Dynamic programming\n",
    "dp = {}\n",
    "dp[0], dp[1] = nums[0], max(nums[0], nums[1])\n",
    "for i in range(2, len(nums)):\n",
    "    dp[i] = max(dp[i-2] + nums[i], dp[i-1])"
   ]
  },
  {
   "cell_type": "code",
   "execution_count": 14,
   "metadata": {},
   "outputs": [
    {
     "data": {
      "text/plain": [
       "{0: 2, 1: 7, 2: 11, 3: 11, 4: 12}"
      ]
     },
     "execution_count": 14,
     "metadata": {},
     "output_type": "execute_result"
    }
   ],
   "source": [
    "dp"
   ]
  },
  {
   "cell_type": "code",
   "execution_count": null,
   "metadata": {},
   "outputs": [],
   "source": [
    "class Solution(object):\n",
    "    def rob(self, nums):\n",
    "        \"\"\"\n",
    "        :type nums: List[int]\n",
    "        :rtype: int\n",
    "        \"\"\"\n",
    "        if len(nums) == 1:\n",
    "            return nums[0]\n",
    "        elif len(nums) == 0:\n",
    "            return 0\n",
    "        else:\n",
    "            dp = {}\n",
    "            dp[0], dp[1] = nums[0], max(nums[0], nums[1])\n",
    "            for i in range(2, len(nums)):\n",
    "                dp[i] = max(dp[i-2] + nums[i], dp[i-1])\n",
    "\n",
    "            return dp[len(nums)-1]"
   ]
  },
  {
   "cell_type": "markdown",
   "metadata": {},
   "source": [
    "### 202. Happy Number"
   ]
  },
  {
   "cell_type": "code",
   "execution_count": 33,
   "metadata": {},
   "outputs": [],
   "source": [
    "n=2"
   ]
  },
  {
   "cell_type": "code",
   "execution_count": 24,
   "metadata": {},
   "outputs": [],
   "source": [
    "def sqr_sum(n):\n",
    "    sqr_sum = 0\n",
    "    for num in str(n):\n",
    "        sqr_sum += int(num)**2\n",
    "    return sqr_sum"
   ]
  },
  {
   "cell_type": "code",
   "execution_count": null,
   "metadata": {},
   "outputs": [],
   "source": [
    "class Solution(object):\n",
    "    def isHappy(self, n):\n",
    "        \"\"\"\n",
    "        :type n: int\n",
    "        :rtype: bool\n",
    "        \"\"\"\n",
    "        def sqr_sum(n):\n",
    "            sqr_sum = 0\n",
    "            for num in str(n):\n",
    "                sqr_sum += int(num)**2\n",
    "            return sqr_sum\n",
    "        \n",
    "        sqr_list = []\n",
    "        while n != 1:\n",
    "            sqr_list.append(n)\n",
    "            n = sqr_sum(n)\n",
    "            if n in sqr_list:\n",
    "                return False\n",
    "        return True"
   ]
  },
  {
   "cell_type": "markdown",
   "metadata": {},
   "source": [
    "### 204. Count Primes"
   ]
  },
  {
   "cell_type": "code",
   "execution_count": 44,
   "metadata": {},
   "outputs": [],
   "source": [
    "# check prime num\n",
    "def check_prime(n):\n",
    "    for i in range(2,int(n**0.5)+1):\n",
    "        if n%i == 0:\n",
    "            return False\n",
    "    return True       "
   ]
  },
  {
   "cell_type": "code",
   "execution_count": 48,
   "metadata": {},
   "outputs": [
    {
     "data": {
      "text/plain": [
       "False"
      ]
     },
     "execution_count": 48,
     "metadata": {},
     "output_type": "execute_result"
    }
   ],
   "source": [
    "check_prime(4)"
   ]
  },
  {
   "cell_type": "code",
   "execution_count": null,
   "metadata": {},
   "outputs": [],
   "source": [
    "class Solution(object): # time limit exceeds\n",
    "    def countPrimes(self, n):\n",
    "        \"\"\"\n",
    "        :type n: int\n",
    "        :rtype: int\n",
    "        \"\"\"\n",
    "        if n in [0,1]:\n",
    "            return 0\n",
    "\n",
    "        def check_prime(n):\n",
    "            for i in range(2,int(n**0.5)+1):\n",
    "                if n%i == 0:\n",
    "                    return False\n",
    "            return True   \n",
    "        \n",
    "        count = 0\n",
    "        for i in range(2,n):\n",
    "            if check_prime(i):\n",
    "                count += 1   \n",
    "        \n",
    "        return count"
   ]
  },
  {
   "cell_type": "markdown",
   "metadata": {},
   "source": [
    "### 217. Contains Duplicate"
   ]
  },
  {
   "cell_type": "code",
   "execution_count": 51,
   "metadata": {},
   "outputs": [],
   "source": [
    "nums = [1,1,1,3,3,4,3,2,4,2]"
   ]
  },
  {
   "cell_type": "code",
   "execution_count": 55,
   "metadata": {},
   "outputs": [
    {
     "data": {
      "text/plain": [
       "[]"
      ]
     },
     "execution_count": 55,
     "metadata": {},
     "output_type": "execute_result"
    }
   ],
   "source": [
    "nums[:0]"
   ]
  },
  {
   "cell_type": "code",
   "execution_count": null,
   "metadata": {},
   "outputs": [],
   "source": [
    "for i in range(1,len(nums)): # time limit exceeds\n",
    "    if nums[i] in nums[:i-1]:\n",
    "        return True\n",
    "return False"
   ]
  },
  {
   "cell_type": "code",
   "execution_count": null,
   "metadata": {},
   "outputs": [],
   "source": [
    "if len(set(nums)) == len(nums): # PASS\n",
    "    return False\n",
    "else:\n",
    "    return True"
   ]
  },
  {
   "cell_type": "code",
   "execution_count": 30,
   "metadata": {},
   "outputs": [
    {
     "name": "stdout",
     "output_type": "stream",
     "text": [
      "2019-07-18 00:32:05.591914\n"
     ]
    }
   ],
   "source": [
    "time()"
   ]
  },
  {
   "cell_type": "markdown",
   "metadata": {},
   "source": [
    "### 242. Valid Anagram"
   ]
  },
  {
   "cell_type": "code",
   "execution_count": 2,
   "metadata": {},
   "outputs": [],
   "source": [
    "s = \"anagram\"\n",
    "t = \"nagaram\""
   ]
  },
  {
   "cell_type": "code",
   "execution_count": 9,
   "metadata": {},
   "outputs": [
    {
     "data": {
      "text/plain": [
       "True"
      ]
     },
     "execution_count": 9,
     "metadata": {},
     "output_type": "execute_result"
    }
   ],
   "source": [
    "from collections import Counter\n",
    "Counter(t) ==  Counter(s)"
   ]
  },
  {
   "cell_type": "markdown",
   "metadata": {},
   "source": [
    "### 268. Missing Number"
   ]
  },
  {
   "cell_type": "code",
   "execution_count": 14,
   "metadata": {},
   "outputs": [],
   "source": [
    "nums = [3,0,1]"
   ]
  },
  {
   "cell_type": "code",
   "execution_count": 22,
   "metadata": {},
   "outputs": [
    {
     "name": "stdout",
     "output_type": "stream",
     "text": [
      "2\n"
     ]
    }
   ],
   "source": [
    "for i, num in enumerate(sorted(nums)):\n",
    "    if i != num:\n",
    "        print(i)"
   ]
  },
  {
   "cell_type": "code",
   "execution_count": 25,
   "metadata": {},
   "outputs": [
    {
     "data": {
      "text/plain": [
       "2.0"
      ]
     },
     "execution_count": 25,
     "metadata": {},
     "output_type": "execute_result"
    }
   ],
   "source": [
    "n = len(nums)\n",
    "return int(n*(n+1)/2 - sum(nums))"
   ]
  },
  {
   "cell_type": "markdown",
   "metadata": {},
   "source": [
    "### 283. Move Zeroes"
   ]
  },
  {
   "cell_type": "code",
   "execution_count": 26,
   "metadata": {},
   "outputs": [],
   "source": [
    "nums = [0,1,0,3,12]"
   ]
  },
  {
   "cell_type": "code",
   "execution_count": 27,
   "metadata": {},
   "outputs": [],
   "source": [
    "for num in nums:\n",
    "    if num == 0:\n",
    "        nums.remove(num)\n",
    "        nums.append(0)"
   ]
  },
  {
   "cell_type": "code",
   "execution_count": 28,
   "metadata": {},
   "outputs": [
    {
     "data": {
      "text/plain": [
       "[1, 3, 12, 0, 0]"
      ]
     },
     "execution_count": 28,
     "metadata": {},
     "output_type": "execute_result"
    }
   ],
   "source": [
    "nums"
   ]
  },
  {
   "cell_type": "markdown",
   "metadata": {},
   "source": [
    "### 326. Power of Three"
   ]
  },
  {
   "cell_type": "code",
   "execution_count": 39,
   "metadata": {},
   "outputs": [],
   "source": [
    "n = 100"
   ]
  },
  {
   "cell_type": "code",
   "execution_count": 40,
   "metadata": {},
   "outputs": [],
   "source": [
    "while n%3 == 0: # wrong!\n",
    "    n = n/3\n",
    "    if n == 1:\n",
    "        print(True)"
   ]
  },
  {
   "cell_type": "code",
   "execution_count": 41,
   "metadata": {},
   "outputs": [
    {
     "data": {
      "text/plain": [
       "False"
      ]
     },
     "execution_count": 41,
     "metadata": {},
     "output_type": "execute_result"
    }
   ],
   "source": [
    "import math\n",
    "return n > 0 and abs(math.log(n, 3) - round(math.log(n, 3))) < 1e-10"
   ]
  },
  {
   "cell_type": "markdown",
   "metadata": {},
   "source": [
    "### 371. Sum of Two Integers"
   ]
  },
  {
   "cell_type": "code",
   "execution_count": 44,
   "metadata": {},
   "outputs": [],
   "source": [
    "a = 1\n",
    "b = 2"
   ]
  },
  {
   "cell_type": "code",
   "execution_count": 46,
   "metadata": {
    "scrolled": true
   },
   "outputs": [
    {
     "data": {
      "text/plain": [
       "3"
      ]
     },
     "execution_count": 46,
     "metadata": {},
     "output_type": "execute_result"
    }
   ],
   "source": [
    "sum([a,b])"
   ]
  },
  {
   "cell_type": "markdown",
   "metadata": {},
   "source": [
    "### 350. Intersection of Two Arrays II"
   ]
  },
  {
   "cell_type": "code",
   "execution_count": 32,
   "metadata": {},
   "outputs": [],
   "source": [
    "nums2 = [4,9,5,4]\n",
    "nums1 = [9,4,9]"
   ]
  },
  {
   "cell_type": "code",
   "execution_count": 22,
   "metadata": {},
   "outputs": [],
   "source": [
    "def count(nums):\n",
    "    dic = {}\n",
    "    for num in nums:\n",
    "        if num not in dic.keys():\n",
    "            dic[num] = 1\n",
    "        else:\n",
    "            dic[num] += 1\n",
    "    \n",
    "    return dic\n",
    "            "
   ]
  },
  {
   "cell_type": "code",
   "execution_count": 23,
   "metadata": {},
   "outputs": [
    {
     "data": {
      "text/plain": [
       "{4: 2, 9: 1, 5: 1}"
      ]
     },
     "execution_count": 23,
     "metadata": {},
     "output_type": "execute_result"
    }
   ],
   "source": [
    "count(nums1)"
   ]
  },
  {
   "cell_type": "code",
   "execution_count": 26,
   "metadata": {},
   "outputs": [
    {
     "data": {
      "text/plain": [
       "{9: 2, 4: 1}"
      ]
     },
     "execution_count": 26,
     "metadata": {},
     "output_type": "execute_result"
    }
   ],
   "source": [
    "count(nums2)"
   ]
  },
  {
   "cell_type": "code",
   "execution_count": 33,
   "metadata": {},
   "outputs": [],
   "source": [
    "# if len(nums1) < len(nums2):\n",
    "#     temp = nums1\n",
    "#     nums1 = nums2\n",
    "#     nums2 = temp\n",
    "\n",
    "dic1 = count(nums1)\n",
    "stack = []\n",
    "for num in nums2:\n",
    "    if num in dic1.keys() and dic1[num]!=0:\n",
    "        stack.append(num)\n",
    "        dic1[num] -= 1\n",
    "\n"
   ]
  },
  {
   "cell_type": "code",
   "execution_count": 34,
   "metadata": {},
   "outputs": [
    {
     "data": {
      "text/plain": [
       "[4, 9]"
      ]
     },
     "execution_count": 34,
     "metadata": {},
     "output_type": "execute_result"
    }
   ],
   "source": [
    "stack"
   ]
  },
  {
   "cell_type": "code",
   "execution_count": 35,
   "metadata": {},
   "outputs": [],
   "source": [
    "class Solution(object):\n",
    "    def intersect(self, nums1, nums2):\n",
    "        \"\"\"\n",
    "        :type nums1: List[int]\n",
    "        :type nums2: List[int]\n",
    "        :rtype: List[int]\n",
    "        \"\"\"\n",
    "        def count(nums):\n",
    "            dic = {}\n",
    "            for num in nums:\n",
    "                if num not in dic.keys():\n",
    "                    dic[num] = 1\n",
    "                else:\n",
    "                    dic[num] += 1\n",
    "\n",
    "            return dic\n",
    "        \n",
    "        dic1 = count(nums1)\n",
    "        stack = []\n",
    "        for num in nums2:\n",
    "            if num in dic1.keys() and dic1[num]!=0:\n",
    "                stack.append(num)\n",
    "                dic1[num] -= 1\n",
    "            \n",
    "        return stack"
   ]
  },
  {
   "cell_type": "markdown",
   "metadata": {},
   "source": [
    "### 387. First Unique Character in a String"
   ]
  },
  {
   "cell_type": "code",
   "execution_count": 36,
   "metadata": {},
   "outputs": [],
   "source": [
    "s = \"loveleetcode\""
   ]
  },
  {
   "cell_type": "code",
   "execution_count": 38,
   "metadata": {},
   "outputs": [],
   "source": [
    "def count(s):\n",
    "    dic = {}\n",
    "    for i in s:\n",
    "        if i not in dic.keys():\n",
    "            dic[i] = 1\n",
    "        else:\n",
    "            dic[i] += 1\n",
    "    \n",
    "    return dic"
   ]
  },
  {
   "cell_type": "code",
   "execution_count": 40,
   "metadata": {},
   "outputs": [],
   "source": [
    "dic = count(s)"
   ]
  },
  {
   "cell_type": "code",
   "execution_count": 43,
   "metadata": {},
   "outputs": [
    {
     "name": "stdout",
     "output_type": "stream",
     "text": [
      "2\n"
     ]
    }
   ],
   "source": [
    "for i in range(len(s)):\n",
    "    if dic[s[i]] == 1:\n",
    "        print(i)\n",
    "        break"
   ]
  },
  {
   "cell_type": "code",
   "execution_count": null,
   "metadata": {},
   "outputs": [],
   "source": [
    " def firstUniqChar(self, s):\n",
    "        \"\"\"\n",
    "        :type s: str\n",
    "        :rtype: int\n",
    "        \"\"\"\n",
    "\n",
    "        def count(s):\n",
    "            dic = {}\n",
    "            for i in s:\n",
    "                if i not in dic.keys():\n",
    "                    dic[i] = 1\n",
    "                else:\n",
    "                    dic[i] += 1\n",
    "\n",
    "            return dic\n",
    "        \n",
    "        dic = count(s)\n",
    "        for i in range(len(s)):\n",
    "            if dic[s[i]] == 1:\n",
    "                return i\n",
    "        return -1"
   ]
  },
  {
   "cell_type": "markdown",
   "metadata": {},
   "source": [
    "### 412. Fizz Buzz"
   ]
  },
  {
   "cell_type": "code",
   "execution_count": 44,
   "metadata": {},
   "outputs": [],
   "source": [
    "n = 15"
   ]
  },
  {
   "cell_type": "code",
   "execution_count": 47,
   "metadata": {},
   "outputs": [],
   "source": [
    "s = [1]*n"
   ]
  },
  {
   "cell_type": "code",
   "execution_count": 50,
   "metadata": {},
   "outputs": [],
   "source": [
    "for i in range(1,n+1):\n",
    "    if i%3 == 0 and i%5 != 0:\n",
    "        s[i-1] = \"Fizz\"\n",
    "    elif i%3 != 0 and i%5 == 0:\n",
    "        s[i-1] = \"Buzz\"\n",
    "    elif i%3 == 0 and i%5 == 0:\n",
    "        s[i-1] = \"FizzBuzz\"\n",
    "    else:\n",
    "        s[i-1] = str(i)"
   ]
  },
  {
   "cell_type": "code",
   "execution_count": 51,
   "metadata": {
    "scrolled": true
   },
   "outputs": [
    {
     "data": {
      "text/plain": [
       "['1',\n",
       " '2',\n",
       " 'Fizz',\n",
       " '4',\n",
       " 'Buzz',\n",
       " 'Fizz',\n",
       " '7',\n",
       " '8',\n",
       " 'Fizz',\n",
       " 'Buzz',\n",
       " '11',\n",
       " 'Fizz',\n",
       " '13',\n",
       " '14',\n",
       " 'FizzBuzz']"
      ]
     },
     "execution_count": 51,
     "metadata": {},
     "output_type": "execute_result"
    }
   ],
   "source": [
    "s"
   ]
  },
  {
   "cell_type": "markdown",
   "metadata": {},
   "source": [
    "###  79. Word Search"
   ]
  },
  {
   "cell_type": "code",
   "execution_count": 2,
   "metadata": {},
   "outputs": [],
   "source": [
    "board = [\n",
    "  ['A','B','C','E'],\n",
    "  ['S','F','C','S'],\n",
    "  ['A','D','E','E']\n",
    "]"
   ]
  },
  {
   "cell_type": "code",
   "execution_count": 5,
   "metadata": {},
   "outputs": [],
   "source": [
    "word = \"ABCCED\""
   ]
  },
  {
   "cell_type": "code",
   "execution_count": 30,
   "metadata": {},
   "outputs": [],
   "source": [
    "def find_str(string, board):\n",
    "    position = []\n",
    "    for i, row in enumerate(board):\n",
    "        for j, str in enumerate(row):\n",
    "            if str == string:\n",
    "                position.append((i,j))\n",
    "         \n",
    "    return position"
   ]
  },
  {
   "cell_type": "code",
   "execution_count": 31,
   "metadata": {},
   "outputs": [
    {
     "data": {
      "text/plain": [
       "[(0, 0), (2, 0)]"
      ]
     },
     "execution_count": 31,
     "metadata": {},
     "output_type": "execute_result"
    }
   ],
   "source": [
    "def adjacent(i,j, board):\n",
    "    n = len(board)\n",
    "    m = len(board[0])\n",
    "    if i == 0 or i == m-1 and j == 0:\n",
    "        return [board[i+1][j], board[i][j+1]]\n",
    "    elif i == 0 and j != 0:\n",
    "        return [board[]]"
   ]
  },
  {
   "cell_type": "markdown",
   "metadata": {},
   "source": [
    "## Linked list"
   ]
  },
  {
   "cell_type": "markdown",
   "metadata": {},
   "source": [
    "### 2. Add Two Numbers"
   ]
  },
  {
   "cell_type": "code",
   "execution_count": null,
   "metadata": {},
   "outputs": [],
   "source": [
    "#     def __init__(self, x):\n",
    "#         self.val = x\n",
    "#         self.next = None\n",
    "\n",
    "class Solution(object):\n",
    "    def addTwoNumbers(self, l1, l2):\n",
    "        \"\"\"\n",
    "        :type l1: ListNode\n",
    "        :type l2: ListNode\n",
    "        :rtype: ListNode\n",
    "        \"\"\"\n",
    "        \n",
    "        l = output = ListNode(0)\n",
    "        while l1 or l2:\n",
    "            if l1 == None:\n",
    "                val = l2.val\n",
    "            elif l2 == None:\n",
    "                val = l1.val\n",
    "            elif l1 and l2:\n",
    "                val = l1.val + l2.val\n",
    "                \n",
    "            if val >= 10 and l.next == None:\n",
    "                l.next = ListNode(val%10)\n",
    "                l.next.next = ListNode(val//10)\n",
    "            elif val < 10 and l.next == None:\n",
    "                l.next = ListNode(val)\n",
    "            elif l.next != None:\n",
    "                l.next.val += val\n",
    "                if l.next.val > 9:\n",
    "                    l.next.next = ListNode(l.next.val // 10)\n",
    "                    l.next.val = l.next.val % 10\n",
    "                    \n",
    "            if l1 and l2:\n",
    "                l1 = l1.next\n",
    "                l2 = l2.next\n",
    "            elif l1 == None:\n",
    "                l2 = l2.next\n",
    "            else: \n",
    "                l1 = l1.next\n",
    "           \n",
    "            l = l.next\n",
    "            \n",
    "        \n",
    "        return output.next"
   ]
  },
  {
   "cell_type": "code",
   "execution_count": null,
   "metadata": {},
   "outputs": [],
   "source": [
    "class Solution: # simpler19. Remove Nth Node From End of List\n",
    "    def addTwoNumbers(self, l1: ListNode, l2: ListNode) -> ListNode:\n",
    "        str1 = ''\n",
    "        while l1:\n",
    "            str1 += str(l1.val)\n",
    "            l1 = l1.next\n",
    "            \n",
    "        str2 = ''\n",
    "        while l2:\n",
    "            str2 += str(l2.val)\n",
    "            l2 = l2.next\n",
    "            \n",
    "        summ = int(str1[::-1]) + int(str2[::-1])\n",
    "        str3 = str(summ)[::-1]\n",
    "        \n",
    "        head = ListNode(str3[0])\n",
    "        answer = head\n",
    "        for i in range(1,len(str3)):\n",
    "            node = ListNode(str3[i])\n",
    "            head.next = node\n",
    "            head = head.next\n",
    "        \n",
    "        return answer"
   ]
  },
  {
   "cell_type": "markdown",
   "metadata": {},
   "source": [
    "### 19. Remove Nth Node From End of List"
   ]
  },
  {
   "cell_type": "code",
   "execution_count": null,
   "metadata": {},
   "outputs": [],
   "source": [
    "class Solution(object):\n",
    "    def removeNthFromEnd(self, head, n):\n",
    "        \"\"\"\n",
    "        :type head: ListNode\n",
    "        :type n: int\n",
    "        :rtype: ListNode\n",
    "        \"\"\"\n",
    "        l,node = [],head\n",
    "        while node:\n",
    "            l.append(node)\n",
    "            node = node.next\n",
    "            \n",
    "        if n == len(l): \n",
    "            l.pop(0) # remove index 0's element in list\n",
    "            if l:\n",
    "                return l[0]\n",
    "            else:\n",
    "                return None\n",
    "            \n",
    "        l[-n-1].next = l[-n].next\n",
    "        return head"
   ]
  },
  {
   "cell_type": "markdown",
   "metadata": {},
   "source": [
    "### 148. Sort List"
   ]
  },
  {
   "cell_type": "code",
   "execution_count": null,
   "metadata": {},
   "outputs": [],
   "source": [
    "# Definition for singly-linked list.\n",
    "# class ListNode(object):\n",
    "#     def __init__(self, x):\n",
    "#         self.val = x\n",
    "#         self.next = None\n",
    "\n",
    "class Solution(object):\n",
    "    def sortList(self, head):\n",
    "        \"\"\"\n",
    "        :type head: ListNode\n",
    "        :rtype: ListNode\n",
    "        \"\"\"\n",
    "        \n",
    "        if head != None:\n",
    "            while (1):\n",
    "                pointer = head \n",
    "                swap = 0\n",
    "                while pointer.next:\n",
    "                    if pointer.val > pointer.next.val:\n",
    "                        swap += 1\n",
    "                        temp = pointer.next.val\n",
    "                        pointer.next.val = pointer.val\n",
    "                        pointer.val = temp #Bubble sort:swap\n",
    "                    pointer = pointer.next\n",
    "\n",
    "                if swap == 0:\n",
    "                    break\n",
    "                else:\n",
    "                    continue\n",
    "\n",
    "        return head"
   ]
  },
  {
   "cell_type": "markdown",
   "metadata": {},
   "source": [
    "### 141. Linked List Cycle"
   ]
  },
  {
   "cell_type": "code",
   "execution_count": 1,
   "metadata": {},
   "outputs": [],
   "source": [
    "# Definition for singly-linked list.\n",
    "# class ListNode(object):\n",
    "#     def __init__(self, x):\n",
    "#         self.val = x\n",
    "#         self.next = None\n",
    "\n",
    "class Solution(object):\n",
    "    def hasCycle(self, head):\n",
    "        \"\"\"\n",
    "        :type head: ListNode\n",
    "        :rtype: bool\n",
    "        \"\"\"\n",
    "        \n",
    "        while head:\n",
    "            if head.val == float('inf'):\n",
    "                return True\n",
    "            else:\n",
    "                head.val = float('inf')\n",
    "                head = head.next\n",
    "        return False\n",
    "            "
   ]
  },
  {
   "cell_type": "code",
   "execution_count": null,
   "metadata": {},
   "outputs": [],
   "source": [
    "class Solution(object):\n",
    "    def hasCycle(self, head):\n",
    "        \"\"\"\n",
    "        :type head: ListNode\n",
    "        :rtype: bool\n",
    "        \"\"\"\n",
    "        nodesSeen = set() \n",
    "        while head:\n",
    "            if head in nodesSeen:\n",
    "                return True\n",
    "            else:\n",
    "                nodesSeen.add(head)\n",
    "            head = head.next \n",
    "        return False"
   ]
  },
  {
   "cell_type": "markdown",
   "metadata": {},
   "source": [
    "### 206. Reverse Linked List"
   ]
  },
  {
   "cell_type": "code",
   "execution_count": 2,
   "metadata": {},
   "outputs": [],
   "source": [
    "class Solution(object):\n",
    "    def reverseList(self, head):\n",
    "        \"\"\"\n",
    "        :type head: ListNode\n",
    "        :rtype: ListNode\n",
    "        \"\"\"\n",
    "        val = []\n",
    "        pointer = head_new = head\n",
    "        \n",
    "        while head:\n",
    "            val.append(head.val)\n",
    "            head = head.next\n",
    "        \n",
    "        reverse_val = val[::-1]\n",
    "        \n",
    "        index = 0\n",
    "        while pointer:\n",
    "            pointer.val = reverse_val[index]\n",
    "            index += 1\n",
    "            pointer = pointer.next\n",
    "        \n",
    "        return head_new"
   ]
  },
  {
   "cell_type": "markdown",
   "metadata": {},
   "source": [
    "### 237. Delete Node in a Linked List"
   ]
  },
  {
   "cell_type": "code",
   "execution_count": null,
   "metadata": {},
   "outputs": [],
   "source": [
    "class Solution(object):\n",
    "    def deleteNode(self, node):\n",
    "        \"\"\"\n",
    "        :type node: ListNode\n",
    "        :rtype: void Do not return anything, modify node in-place instead.\n",
    "        \"\"\"\n",
    "        while node.next:\n",
    "            node.val = node.next.val\n",
    "            cur = node\n",
    "            node = node.next\n",
    "        cur.next = None"
   ]
  },
  {
   "cell_type": "markdown",
   "metadata": {},
   "source": [
    "### 160. Intersection of Two Linked Lists"
   ]
  },
  {
   "cell_type": "code",
   "execution_count": 4,
   "metadata": {},
   "outputs": [],
   "source": [
    "A = [4,1,8,4,5]"
   ]
  },
  {
   "cell_type": "code",
   "execution_count": 5,
   "metadata": {},
   "outputs": [],
   "source": [
    "B = [5,0,1,8,4,5]"
   ]
  },
  {
   "cell_type": "code",
   "execution_count": null,
   "metadata": {},
   "outputs": [],
   "source": [
    "# Definition for singly-linked list.\n",
    "# class ListNode(object):\n",
    "#     def __init__(self, x):\n",
    "#         self.val = x\n",
    "#         self.next = None\n",
    "\n",
    "class Solution(object):\n",
    "    def length(self,head):\n",
    "        count = 0\n",
    "        while head:\n",
    "            count += 1\n",
    "            head = head.next\n",
    "        return count\n",
    "    \n",
    "    def getIntersectionNode(self, headA, headB):\n",
    "        \"\"\"\n",
    "        :type head1, head1: ListNode\n",
    "        :rtype: ListNode\n",
    "        \"\"\"\n",
    "        if not headA or not headB:\n",
    "            return None\n",
    "        \n",
    "        a = self.length(headA)\n",
    "        b = self.length(headB)\n",
    "        if a < b:\n",
    "            a, b = b, a\n",
    "            headA, headB = headB, headA\n",
    "            \n",
    "        while a > b:\n",
    "            a -= 1\n",
    "            headA = headA.next\n",
    "            \n",
    "        while headA:\n",
    "            if headA == headB:\n",
    "                return headA\n",
    "            else:\n",
    "                headA = headA.next\n",
    "                headB = headB.next\n",
    "        return None"
   ]
  },
  {
   "cell_type": "markdown",
   "metadata": {},
   "source": [
    "### 234. Palindrome Linked List"
   ]
  },
  {
   "cell_type": "code",
   "execution_count": 15,
   "metadata": {},
   "outputs": [],
   "source": [
    "val = [2,1]"
   ]
  },
  {
   "cell_type": "code",
   "execution_count": null,
   "metadata": {},
   "outputs": [],
   "source": [
    "class Solution(object):\n",
    "    def isPalindrome(self, head):\n",
    "        \"\"\"\n",
    "        :type head: ListNode\n",
    "        :rtype: bool\n",
    "        \"\"\"\n",
    "        if not head or not head.next:\n",
    "            return True\n",
    "        \n",
    "        fast = slow = cur = head\n",
    "        \n",
    "        while fast and fast.next:\n",
    "            fast = fast.next.next\n",
    "            slow = slow.next # this is the mid-pointer\n",
    "        \n",
    "        val = []\n",
    "        while slow:\n",
    "            val.append(slow.val)\n",
    "            slow = slow.next\n",
    "        \n",
    "        while val:\n",
    "            if val.pop() != cur.val:\n",
    "                return False\n",
    "            else:\n",
    "                cur = cur.next\n",
    "        return True"
   ]
  },
  {
   "cell_type": "markdown",
   "metadata": {},
   "source": [
    "### 328. Odd Even Linked List"
   ]
  },
  {
   "cell_type": "code",
   "execution_count": null,
   "metadata": {},
   "outputs": [],
   "source": [
    "class Solution(object):\n",
    "    def oddEvenList(self, head):\n",
    "        \"\"\"\n",
    "        :type head: ListNode\n",
    "        :rtype: ListNode\n",
    "        \"\"\"\n",
    "        if not head:\n",
    "            return None\n",
    "        if not head.next:\n",
    "            return head\n",
    "        \n",
    "        even = head.next\n",
    "        evenCopy = even # the pointer from even head\n",
    "        headCopy = head # pointer from odd head\n",
    "        \n",
    "        while head.next and even.next:\n",
    "            head.next = head.next.next\n",
    "            even.next = even.next.next\n",
    "            if head.next:\n",
    "                head = head.next\n",
    "            if even.next:\n",
    "                even = even.next\n",
    "            \n",
    "        head.next = evenCopy # concatenate from last odd node\n",
    "        return headCopy # return odd head pointer"
   ]
  },
  {
   "cell_type": "markdown",
   "metadata": {},
   "source": [
    "###  138. Copy List with Random Pointer"
   ]
  },
  {
   "cell_type": "code",
   "execution_count": null,
   "metadata": {},
   "outputs": [],
   "source": [
    "class Solution(object):\n",
    "    def copyRandomList(self, head):\n",
    "        \"\"\"\n",
    "        :type head: Node\n",
    "        :rtype: Node\n",
    "        \"\"\"\n",
    "        \n",
    "        \n",
    "        cur = head\n",
    "        dic = {}\n",
    "        prev = None\n",
    "        while cur:\n",
    "            dummy = Node(None,None,None)\n",
    "            dummy.val = cur.val\n",
    "            if prev != None:\n",
    "                prev.next = dummy\n",
    "            else: #first one\n",
    "                prev = dummy\n",
    "                \n",
    "            dic[cur] = dummy\n",
    "            cur = cur.next\n",
    "    \n",
    "        for key, value in dic.items(): # runtime error--> dic.iteritems() is a generator, faster\n",
    "            if dic[key] != None:\n",
    "                value.random = dic[key.random]\n",
    "        \n",
    "        if head != None:\n",
    "            return dic[head]\n",
    "        else:\n",
    "            return None"
   ]
  },
  {
   "cell_type": "markdown",
   "metadata": {},
   "source": [
    "## Array"
   ]
  },
  {
   "cell_type": "markdown",
   "metadata": {},
   "source": [
    "### 380. Insert Delete GetRandom O(1)"
   ]
  },
  {
   "cell_type": "code",
   "execution_count": null,
   "metadata": {},
   "outputs": [],
   "source": [
    "class RandomizedSet(object):\n",
    "\n",
    "    def __init__(self):\n",
    "        \"\"\"\n",
    "        Initialize your data structure here.\n",
    "        \"\"\"\n",
    "        self._item = set()\n",
    "\n",
    "    def insert(self, val):\n",
    "        \"\"\"\n",
    "        Inserts a value to the set. Returns true if the set did not already contain the specified element.\n",
    "        :type val: int\n",
    "        :rtype: bool\n",
    "        \"\"\"\n",
    "        if val not in self._item:\n",
    "            self._item.add(val)\n",
    "            return True\n",
    "        \n",
    "\n",
    "    def remove(self, val):\n",
    "        \"\"\"\n",
    "        Removes a value from the set. Returns true if the set contained the specified element.\n",
    "        :type val: int\n",
    "        :rtype: bool\n",
    "        \"\"\"\n",
    "        if val in self._item:\n",
    "            self._item.remove(val)\n",
    "            return True\n",
    "        \n",
    "\n",
    "    def getRandom(self):\n",
    "        \"\"\"\n",
    "        Get a random element from the set.\n",
    "        :rtype: int\n",
    "        \"\"\"\n",
    "        from random import randint\n",
    "        index = randint(0,len(self._item)-1)\n",
    "        return list(self._item)[index] #set does not support indexing\n",
    "        \n",
    "\n",
    "\n",
    "# Your RandomizedSet object will be instantiated and called as such:\n",
    "# obj = RandomizedSet()\n",
    "# param_1 = obj.insert(val)\n",
    "# param_2 = obj.remove(val)\n",
    "# param_3 = obj.getRandom()"
   ]
  },
  {
   "cell_type": "markdown",
   "metadata": {},
   "source": [
    "### 11. Container With Most Water"
   ]
  },
  {
   "cell_type": "code",
   "execution_count": 1,
   "metadata": {},
   "outputs": [],
   "source": [
    "height = [1,8,6,2,5,4,8,3,7]"
   ]
  },
  {
   "cell_type": "code",
   "execution_count": 5,
   "metadata": {},
   "outputs": [],
   "source": [
    "water = 0\n",
    "head = 0\n",
    "tail = len(height) - 1 # use 2 pointers, like两车相向行驶， 次数就是length\n",
    "\n",
    "for i in range(len(height)):\n",
    "    width = tail - head\n",
    "    if height[head] > height[tail]:\n",
    "        cur = width * height[tail]\n",
    "        tail -= 1\n",
    "\n",
    "    else:\n",
    "        cur = width * height[head]\n",
    "        head += 1\n",
    "\n",
    "    if cur > water:\n",
    "        water = cur"
   ]
  },
  {
   "cell_type": "code",
   "execution_count": 3,
   "metadata": {},
   "outputs": [
    {
     "data": {
      "text/plain": [
       "49"
      ]
     },
     "execution_count": 3,
     "metadata": {},
     "output_type": "execute_result"
    }
   ],
   "source": [
    "water"
   ]
  },
  {
   "cell_type": "markdown",
   "metadata": {},
   "source": [
    "### 15. 3Sum"
   ]
  },
  {
   "cell_type": "code",
   "execution_count": 28,
   "metadata": {},
   "outputs": [],
   "source": [
    "nums = [-1, 0, 1, 2, -1, -4]"
   ]
  },
  {
   "cell_type": "code",
   "execution_count": 26,
   "metadata": {},
   "outputs": [],
   "source": [
    "# does not work!! duplicates\n",
    "lst = []\n",
    "for i in range(len(nums)):\n",
    "    a = nums[i]\n",
    "    for j in range(i+1,len(nums)):\n",
    "        b = nums[j]\n",
    "        c = -a-b\n",
    "        if c in new_lst:\n",
    "            sol = [a,b,c]\n",
    "            sol.sort()\n",
    "            if sol not in lst:\n",
    "                lst.append(sol)"
   ]
  },
  {
   "cell_type": "code",
   "execution_count": 23,
   "metadata": {},
   "outputs": [
    {
     "data": {
      "text/plain": [
       "[[-1, 0, 1], [-1, -1, 2]]"
      ]
     },
     "execution_count": 23,
     "metadata": {},
     "output_type": "execute_result"
    }
   ],
   "source": [
    "lst"
   ]
  },
  {
   "cell_type": "code",
   "execution_count": 39,
   "metadata": {},
   "outputs": [],
   "source": [
    "# 2 pointers left, right\n",
    "nums.sort()\n",
    "lst = []\n",
    "dic = {}\n",
    "\n",
    "for i in range(len(nums)-2):\n",
    "    l = i+1\n",
    "    r = len(nums)-1\n",
    "    while l < r:\n",
    "        summ = nums[i] + nums[l] + nums[r]\n",
    "        if summ == 0:\n",
    "            sol = [nums[i], nums[l], nums[r]]\n",
    "            if str(sol) not in dic: # If use sol not in lst: time limit exceeds\n",
    "                dic[str(sol)] = True\n",
    "                lst.append(sol)\n",
    "            l = l+1\n",
    "            r = r-1\n",
    "        elif summ < 0:\n",
    "            l += 1\n",
    "        else:\n",
    "            r -= 1"
   ]
  },
  {
   "cell_type": "code",
   "execution_count": 38,
   "metadata": {},
   "outputs": [
    {
     "data": {
      "text/plain": [
       "[[-1, -1, 2], [-1, 0, 1]]"
      ]
     },
     "execution_count": 38,
     "metadata": {},
     "output_type": "execute_result"
    }
   ],
   "source": [
    "lst"
   ]
  },
  {
   "cell_type": "markdown",
   "metadata": {},
   "source": [
    "### 287. Find the Duplicate Number"
   ]
  },
  {
   "cell_type": "code",
   "execution_count": 40,
   "metadata": {},
   "outputs": [],
   "source": [
    "nums = [1,3,4,2,2]"
   ]
  },
  {
   "cell_type": "code",
   "execution_count": 44,
   "metadata": {},
   "outputs": [
    {
     "data": {
      "text/plain": [
       "2"
      ]
     },
     "execution_count": 44,
     "metadata": {},
     "output_type": "execute_result"
    }
   ],
   "source": [
    "int((sum(nums) - sum(set(nums)))/(len(nums)-len(set(nums))))"
   ]
  },
  {
   "cell_type": "markdown",
   "metadata": {},
   "source": [
    "### 33. Search in Rotated Sorted Array"
   ]
  },
  {
   "cell_type": "code",
   "execution_count": 51,
   "metadata": {},
   "outputs": [],
   "source": [
    "nums = [4,5,6,7,0,1,2]\n",
    "target = 5"
   ]
  },
  {
   "cell_type": "code",
   "execution_count": 52,
   "metadata": {},
   "outputs": [
    {
     "name": "stdout",
     "output_type": "stream",
     "text": [
      "7 4 2\n",
      "5 4 6\n",
      "1\n",
      "4 4 4\n"
     ]
    }
   ],
   "source": [
    "# binary search\n",
    "start = 0\n",
    "end = len(nums) - 1\n",
    "\n",
    "while start <= end:\n",
    "\n",
    "    mid = (start + end) // 2\n",
    "    print(nums[mid], nums[start], nums[end])\n",
    "\n",
    "    if nums[mid] == target:\n",
    "         print(mid)\n",
    "\n",
    "    if nums[mid] <= nums[end]: \n",
    "        if nums[mid] < target and nums[end] >= target:\n",
    "            start = mid + 1\n",
    "        else:\n",
    "            end = mid - 1\n",
    "    elif nums[start] <= nums[mid]:\n",
    "        if target >= nums[start] and target < nums[mid]:\n",
    "            end = mid - 1\n",
    "        else:\n",
    "            start = mid + 1\n",
    "\n",
    "# print(-1)\n"
   ]
  },
  {
   "cell_type": "markdown",
   "metadata": {},
   "source": [
    "### 41. First Missing Positive"
   ]
  },
  {
   "cell_type": "code",
   "execution_count": 56,
   "metadata": {},
   "outputs": [],
   "source": [
    "nums = [7,8,9,11,12]"
   ]
  },
  {
   "cell_type": "code",
   "execution_count": 57,
   "metadata": {},
   "outputs": [],
   "source": [
    "nums.sort()"
   ]
  },
  {
   "cell_type": "code",
   "execution_count": null,
   "metadata": {
    "scrolled": true
   },
   "outputs": [],
   "source": [
    "class Solution(object): # runtime error\n",
    "    def firstMissingPositive(self, nums):\n",
    "        \"\"\"\n",
    "        :type nums: List[int]\n",
    "        :rtype: int\n",
    "        \"\"\"\n",
    "        nums.sort()\n",
    "        for i in range(1,nums[-1]+1):\n",
    "            if i not in nums:\n",
    "                return i\n",
    "            else: \n",
    "                continue\n",
    "        \n",
    "        return nums[-1] + 1"
   ]
  },
  {
   "cell_type": "code",
   "execution_count": 60,
   "metadata": {},
   "outputs": [
    {
     "name": "stdout",
     "output_type": "stream",
     "text": [
      "1\n"
     ]
    }
   ],
   "source": [
    "min_value = 1 # pass\n",
    "for num in nums:\n",
    "    if num == min_value:\n",
    "        min_value += 1\n",
    "print(min_value)"
   ]
  },
  {
   "cell_type": "markdown",
   "metadata": {},
   "source": [
    "### 56. Merge Intervals"
   ]
  },
  {
   "cell_type": "code",
   "execution_count": 76,
   "metadata": {},
   "outputs": [],
   "source": [
    "intervals = [[1,3],[2,6],[8,10],[15,18]]"
   ]
  },
  {
   "cell_type": "code",
   "execution_count": 80,
   "metadata": {},
   "outputs": [
    {
     "name": "stdout",
     "output_type": "stream",
     "text": [
      "[[1, 6], [8, 10], [15, 18]]\n"
     ]
    }
   ],
   "source": [
    "intervals.sort(key = lambda x: x[0]) \n",
    "i = 0\n",
    "while i < len(intervals) - 1:\n",
    "    if intervals[i][1] >= intervals[i+1][0]:\n",
    "        intervals[i][1] = max(intervals[i+1][1], intervals[i][1])\n",
    "        del intervals[i+1]\n",
    "    else:\n",
    "        i += 1\n",
    "print (intervals)"
   ]
  },
  {
   "cell_type": "code",
   "execution_count": null,
   "metadata": {},
   "outputs": [],
   "source": [
    "intervals"
   ]
  },
  {
   "cell_type": "markdown",
   "metadata": {},
   "source": [
    "### 78. Subsets"
   ]
  },
  {
   "cell_type": "code",
   "execution_count": 1,
   "metadata": {},
   "outputs": [],
   "source": [
    "nums = [1,2,3]"
   ]
  },
  {
   "cell_type": "code",
   "execution_count": 2,
   "metadata": {},
   "outputs": [
    {
     "name": "stdout",
     "output_type": "stream",
     "text": [
      "1\n",
      "[[]]\n",
      "2\n",
      "[[], [1]]\n",
      "[[], [1], [2]]\n",
      "3\n",
      "[[], [1], [2], [1, 2]]\n",
      "[[], [1], [2], [1, 2], [3]]\n",
      "[[], [1], [2], [1, 2], [3], [1, 3]]\n",
      "[[], [1], [2], [1, 2], [3], [1, 3], [2, 3]]\n"
     ]
    }
   ],
   "source": [
    "res = [[]]\n",
    "for n in nums:\n",
    "    print(n) # each element in nums\n",
    "    for i in range(len(res)): # 遍历之前有的res\n",
    "        print(res)\n",
    "        res.append(res[i] + [n]) # 每个subset上加上新的element成为新的subset\n"
   ]
  },
  {
   "cell_type": "markdown",
   "metadata": {},
   "source": [
    "### 238. Product of Array Except Self"
   ]
  },
  {
   "cell_type": "code",
   "execution_count": 3,
   "metadata": {},
   "outputs": [],
   "source": [
    "nums = [1,2,3,4]"
   ]
  },
  {
   "cell_type": "code",
   "execution_count": 11,
   "metadata": {},
   "outputs": [],
   "source": [
    "prod = [0] * len(nums) #time limit exceeds\n",
    "\n",
    "for i in range(len(nums)):\n",
    "    pro = 1\n",
    "    for j in range(0,i):\n",
    "        pro *= nums[j]\n",
    "    for k in range(len(nums)-1,i,-1):\n",
    "        pro *= nums[k]\n",
    "    prod[i] = pro"
   ]
  },
  {
   "cell_type": "code",
   "execution_count": 12,
   "metadata": {},
   "outputs": [
    {
     "data": {
      "text/plain": [
       "[24, 12, 8, 6]"
      ]
     },
     "execution_count": 12,
     "metadata": {},
     "output_type": "execute_result"
    }
   ],
   "source": [
    "prod"
   ]
  },
  {
   "cell_type": "code",
   "execution_count": 13,
   "metadata": {},
   "outputs": [
    {
     "name": "stdout",
     "output_type": "stream",
     "text": [
      "[1, 1, 1, 1]\n",
      "[1, 1, 2, 1]\n",
      "[1, 1, 2, 6]\n"
     ]
    }
   ],
   "source": [
    "output=[1]*len(nums)\n",
    "n=len(nums)\n",
    "\n",
    "prod=1 # 2 scans\n",
    "for i in range(1,n):\n",
    "    prod=prod*nums[i-1]\n",
    "    output[i]*=prod\n",
    "\n",
    "\n",
    "prod=1\n",
    "for i in range(n-2,-1,-1):\n",
    "    prod=prod*nums[i+1]\n",
    "    output[i]*=prod"
   ]
  }
 ],
 "metadata": {
  "kernelspec": {
   "display_name": "Python 3",
   "language": "python",
   "name": "python3"
  },
  "language_info": {
   "codemirror_mode": {
    "name": "ipython",
    "version": 3
   },
   "file_extension": ".py",
   "mimetype": "text/x-python",
   "name": "python",
   "nbconvert_exporter": "python",
   "pygments_lexer": "ipython3",
   "version": "3.6.4"
  }
 },
 "nbformat": 4,
 "nbformat_minor": 2
}
